{
 "cells": [
  {
   "cell_type": "markdown",
   "metadata": {
    "id": "bsxvpzCMZTfG",
    "tags": []
   },
   "source": [
    "#  Capstone Assignment 2"
   ]
  },
  {
   "cell_type": "markdown",
   "metadata": {
    "deletable": false,
    "id": "L5SAGf4TZTfI",
    "tags": [],
    "trust": true
   },
   "source": [
    "## Background\n",
    "You are a HDB officer who has just completed the DC Bootcamp <br/>\n",
    "As your first data task, your director has asked you to tackle some of the data processing tasks and analyses.<br/>\n",
    "\n",
    "\n",
    "To aid you in your task, you have been provided with the following **hdb_resale.csv** dataset. <br/>\n",
    "See the description below for the fields given. <br/>\n",
    "<br/>\n",
    "<table>\n",
    "    <tr><th>Field</th><th>Description</th></tr>\n",
    "    <tr><td>Trans_YearMonth</td><td>year-month (YYYY-MM) for transaction</td></tr>\n",
    "    <tr><td>year</td><td>year (YYYY) for transaction</td></tr>\n",
    "    <tr><td>town</td><td>town for the resale flat</td></tr>\n",
    "    <tr><td>flat_type</td><td>flat type for the resale flat</td></tr>\n",
    "    <tr><td>block</td><td>block for the resale flat</td></tr>\n",
    "    <tr><td>street_name</td><td>street for the resale flat</td></tr>\n",
    "    <tr><td>storey_range</td><td>storey range for the resale flat</td></tr>\n",
    "    <tr><td>floor_area_sqm</td><td>floor area in square meter</td></tr>\n",
    "    <tr><td>flat_model</td><td>model of resale flat</td></tr>\n",
    "    <tr><td>lease_commence_date</td><td>year of lease commencement</td></tr>\n",
    "    <tr><td>resale_price</td><td>price of the resale flat</td></tr>\n",
    "</table>"
   ]
  },
  {
   "cell_type": "markdown",
   "metadata": {
    "deletable": false,
    "id": "4Zk5YNN8ZTfJ",
    "tags": [],
    "trust": true
   },
   "source": [
    "---\n",
    "⚠️**Notebook Instruction:**\n",
    "- This is an open-book test. You may refer to previous notes or internet sources at any point during the test.\n",
    "- You are forbidden to share or discuss any questions/solutions with other students.\n",
    "- If you need to seek for any clarifications, you may privately message the trainers.  \n",
    "\n",
    "\n",
    "- Feel free to insert additional cell(s) as you need.\n",
    "- You may import any packages that you need. \n",
    "- You may create additional variables, columns, or object in this notebook to derive at your solution. \n",
    "- If not specifed, you may use any name for your variable or column.\n",
    "- If any expected output is provided, you are ought to remove any additional columns that is not included in the expected output. Failure in doing so, will result in reduction of marks.\n",
    "\n",
    "\n",
    "- ⬇️ Enter your name as a string in cell below."
   ]
  },
  {
   "cell_type": "code",
   "execution_count": 21,
   "metadata": {
    "id": "RcDEZJkkZTfK"
   },
   "outputs": [],
   "source": [
    "Name = \"TAN HUI HUI JENNY\""
   ]
  },
  {
   "cell_type": "markdown",
   "metadata": {
    "deletable": false,
    "editable": false,
    "id": "A4uPByClZTfL",
    "tags": [],
    "trust": true
   },
   "source": [
    "# Import Packages"
   ]
  },
  {
   "cell_type": "markdown",
   "metadata": {
    "deletable": false,
    "editable": false,
    "id": "LpsR5VyVZTfL",
    "tags": [],
    "trust": true
   },
   "source": [
    "> Cell below is for you to write the codes for importing the packages that you need to use in this notebook.\\\n",
    "> You can also import the package(s) elsewhere within this notebook and will not be penalized for that.\n"
   ]
  },
  {
   "cell_type": "code",
   "execution_count": 22,
   "metadata": {
    "id": "b7iSVLk-ZTfL"
   },
   "outputs": [],
   "source": [
    "import numpy as np\n",
    "import pandas as pd"
   ]
  },
  {
   "cell_type": "code",
   "execution_count": 23,
   "metadata": {},
   "outputs": [],
   "source": [
    "\n",
    "import matplotlib.pyplot as plt\n",
    "import seaborn as sns \n",
    "\n",
    "%matplotlib inline\n",
    "%config InlineBackend.figure_format = 'retina'\n",
    "\n",
    "plt.rc('figure', figsize=(16,9))\n",
    "sns.set(rc= {\"figure.figsize\": (16, 9)})\n",
    "\n",
    "sns.set_style(\"whitegrid\")"
   ]
  },
  {
   "cell_type": "markdown",
   "metadata": {
    "deletable": false,
    "editable": false,
    "id": "wHgmbYW8ZTfL",
    "tags": [],
    "trust": true
   },
   "source": [
    "# Question 1 - Importing and Checking the Data\n",
    "You decided to import the data into Pandas and do some exploration."
   ]
  },
  {
   "cell_type": "markdown",
   "metadata": {
    "id": "yuXuEA-CZTfM"
   },
   "source": [
    "> **[ Question 1a ]** Read in **hdb_resale.csv** as a dataframe and store it in a variable called **hdbdf**. <br/>"
   ]
  },
  {
   "cell_type": "code",
   "execution_count": 24,
   "metadata": {
    "id": "1JP9k-E9ZTfM"
   },
   "outputs": [],
   "source": [
    "# Read in csv file as pandas dataframe\n",
    "hdbdf = pd.read_csv('hdb_resale.csv')"
   ]
  },
  {
   "cell_type": "markdown",
   "metadata": {
    "id": "IHM2kFYWZTfM"
   },
   "source": [
    "> **[ Question 1b ]** Check if there are any missing values in all of the columns.<br/>\n"
   ]
  },
  {
   "cell_type": "code",
   "execution_count": 25,
   "metadata": {
    "id": "6scoREKGZTfN"
   },
   "outputs": [
    {
     "data": {
      "text/plain": [
       "Tranc_YearMonth        0\n",
       "year                   0\n",
       "town                   0\n",
       "flat_type              0\n",
       "block                  0\n",
       "street_name            0\n",
       "storey_range           0\n",
       "floor_area_sqm         0\n",
       "flat_model             0\n",
       "lease_commence_date    0\n",
       "resale_price           0\n",
       "dtype: int64"
      ]
     },
     "execution_count": 25,
     "metadata": {},
     "output_type": "execute_result"
    }
   ],
   "source": [
    "# Check for missing values\n",
    "hdbdf.isna().sum()"
   ]
  },
  {
   "cell_type": "markdown",
   "metadata": {},
   "source": [
    "There are no missing values in the dataset"
   ]
  },
  {
   "cell_type": "markdown",
   "metadata": {
    "id": "ZWmYUI70ZTfN"
   },
   "source": [
    "> **[Question 1c]** Display the top 10 rows of the dataframe."
   ]
  },
  {
   "cell_type": "code",
   "execution_count": 26,
   "metadata": {
    "id": "FyuXvKUwZTfN"
   },
   "outputs": [
    {
     "data": {
      "text/html": [
       "<div>\n",
       "<style scoped>\n",
       "    .dataframe tbody tr th:only-of-type {\n",
       "        vertical-align: middle;\n",
       "    }\n",
       "\n",
       "    .dataframe tbody tr th {\n",
       "        vertical-align: top;\n",
       "    }\n",
       "\n",
       "    .dataframe thead th {\n",
       "        text-align: right;\n",
       "    }\n",
       "</style>\n",
       "<table border=\"1\" class=\"dataframe\">\n",
       "  <thead>\n",
       "    <tr style=\"text-align: right;\">\n",
       "      <th></th>\n",
       "      <th>Tranc_YearMonth</th>\n",
       "      <th>year</th>\n",
       "      <th>town</th>\n",
       "      <th>flat_type</th>\n",
       "      <th>block</th>\n",
       "      <th>street_name</th>\n",
       "      <th>storey_range</th>\n",
       "      <th>floor_area_sqm</th>\n",
       "      <th>flat_model</th>\n",
       "      <th>lease_commence_date</th>\n",
       "      <th>resale_price</th>\n",
       "    </tr>\n",
       "  </thead>\n",
       "  <tbody>\n",
       "    <tr>\n",
       "      <th>0</th>\n",
       "      <td>2015-01</td>\n",
       "      <td>2015</td>\n",
       "      <td>ANG MO KIO</td>\n",
       "      <td>3 ROOM</td>\n",
       "      <td>174</td>\n",
       "      <td>ANG MO KIO AVE 4</td>\n",
       "      <td>07 TO 09</td>\n",
       "      <td>60.0</td>\n",
       "      <td>Improved</td>\n",
       "      <td>1986</td>\n",
       "      <td>255000.0</td>\n",
       "    </tr>\n",
       "    <tr>\n",
       "      <th>1</th>\n",
       "      <td>2015-01</td>\n",
       "      <td>2015</td>\n",
       "      <td>ANG MO KIO</td>\n",
       "      <td>3 ROOM</td>\n",
       "      <td>541</td>\n",
       "      <td>ANG MO KIO AVE 10</td>\n",
       "      <td>01 TO 03</td>\n",
       "      <td>68.0</td>\n",
       "      <td>New Generation</td>\n",
       "      <td>1981</td>\n",
       "      <td>275000.0</td>\n",
       "    </tr>\n",
       "    <tr>\n",
       "      <th>2</th>\n",
       "      <td>2015-01</td>\n",
       "      <td>2015</td>\n",
       "      <td>ANG MO KIO</td>\n",
       "      <td>3 ROOM</td>\n",
       "      <td>163</td>\n",
       "      <td>ANG MO KIO AVE 4</td>\n",
       "      <td>01 TO 03</td>\n",
       "      <td>69.0</td>\n",
       "      <td>New Generation</td>\n",
       "      <td>1980</td>\n",
       "      <td>285000.0</td>\n",
       "    </tr>\n",
       "    <tr>\n",
       "      <th>3</th>\n",
       "      <td>2015-01</td>\n",
       "      <td>2015</td>\n",
       "      <td>ANG MO KIO</td>\n",
       "      <td>3 ROOM</td>\n",
       "      <td>446</td>\n",
       "      <td>ANG MO KIO AVE 10</td>\n",
       "      <td>01 TO 03</td>\n",
       "      <td>68.0</td>\n",
       "      <td>New Generation</td>\n",
       "      <td>1979</td>\n",
       "      <td>290000.0</td>\n",
       "    </tr>\n",
       "    <tr>\n",
       "      <th>4</th>\n",
       "      <td>2015-01</td>\n",
       "      <td>2015</td>\n",
       "      <td>ANG MO KIO</td>\n",
       "      <td>3 ROOM</td>\n",
       "      <td>557</td>\n",
       "      <td>ANG MO KIO AVE 10</td>\n",
       "      <td>07 TO 09</td>\n",
       "      <td>68.0</td>\n",
       "      <td>New Generation</td>\n",
       "      <td>1980</td>\n",
       "      <td>290000.0</td>\n",
       "    </tr>\n",
       "    <tr>\n",
       "      <th>5</th>\n",
       "      <td>2015-01</td>\n",
       "      <td>2015</td>\n",
       "      <td>ANG MO KIO</td>\n",
       "      <td>3 ROOM</td>\n",
       "      <td>603</td>\n",
       "      <td>ANG MO KIO AVE 5</td>\n",
       "      <td>07 TO 09</td>\n",
       "      <td>67.0</td>\n",
       "      <td>New Generation</td>\n",
       "      <td>1980</td>\n",
       "      <td>290000.0</td>\n",
       "    </tr>\n",
       "    <tr>\n",
       "      <th>6</th>\n",
       "      <td>2015-01</td>\n",
       "      <td>2015</td>\n",
       "      <td>ANG MO KIO</td>\n",
       "      <td>3 ROOM</td>\n",
       "      <td>709</td>\n",
       "      <td>ANG MO KIO AVE 8</td>\n",
       "      <td>01 TO 03</td>\n",
       "      <td>68.0</td>\n",
       "      <td>New Generation</td>\n",
       "      <td>1980</td>\n",
       "      <td>290000.0</td>\n",
       "    </tr>\n",
       "    <tr>\n",
       "      <th>7</th>\n",
       "      <td>2015-01</td>\n",
       "      <td>2015</td>\n",
       "      <td>ANG MO KIO</td>\n",
       "      <td>3 ROOM</td>\n",
       "      <td>333</td>\n",
       "      <td>ANG MO KIO AVE 1</td>\n",
       "      <td>01 TO 03</td>\n",
       "      <td>68.0</td>\n",
       "      <td>New Generation</td>\n",
       "      <td>1981</td>\n",
       "      <td>293000.0</td>\n",
       "    </tr>\n",
       "    <tr>\n",
       "      <th>8</th>\n",
       "      <td>2015-01</td>\n",
       "      <td>2015</td>\n",
       "      <td>ANG MO KIO</td>\n",
       "      <td>3 ROOM</td>\n",
       "      <td>109</td>\n",
       "      <td>ANG MO KIO AVE 4</td>\n",
       "      <td>01 TO 03</td>\n",
       "      <td>67.0</td>\n",
       "      <td>New Generation</td>\n",
       "      <td>1978</td>\n",
       "      <td>300000.0</td>\n",
       "    </tr>\n",
       "    <tr>\n",
       "      <th>9</th>\n",
       "      <td>2015-01</td>\n",
       "      <td>2015</td>\n",
       "      <td>ANG MO KIO</td>\n",
       "      <td>3 ROOM</td>\n",
       "      <td>564</td>\n",
       "      <td>ANG MO KIO AVE 3</td>\n",
       "      <td>13 TO 15</td>\n",
       "      <td>68.0</td>\n",
       "      <td>New Generation</td>\n",
       "      <td>1985</td>\n",
       "      <td>307500.0</td>\n",
       "    </tr>\n",
       "  </tbody>\n",
       "</table>\n",
       "</div>"
      ],
      "text/plain": [
       "  Tranc_YearMonth  year        town flat_type block        street_name  \\\n",
       "0         2015-01  2015  ANG MO KIO    3 ROOM   174   ANG MO KIO AVE 4   \n",
       "1         2015-01  2015  ANG MO KIO    3 ROOM   541  ANG MO KIO AVE 10   \n",
       "2         2015-01  2015  ANG MO KIO    3 ROOM   163   ANG MO KIO AVE 4   \n",
       "3         2015-01  2015  ANG MO KIO    3 ROOM   446  ANG MO KIO AVE 10   \n",
       "4         2015-01  2015  ANG MO KIO    3 ROOM   557  ANG MO KIO AVE 10   \n",
       "5         2015-01  2015  ANG MO KIO    3 ROOM   603   ANG MO KIO AVE 5   \n",
       "6         2015-01  2015  ANG MO KIO    3 ROOM   709   ANG MO KIO AVE 8   \n",
       "7         2015-01  2015  ANG MO KIO    3 ROOM   333   ANG MO KIO AVE 1   \n",
       "8         2015-01  2015  ANG MO KIO    3 ROOM   109   ANG MO KIO AVE 4   \n",
       "9         2015-01  2015  ANG MO KIO    3 ROOM   564   ANG MO KIO AVE 3   \n",
       "\n",
       "  storey_range  floor_area_sqm      flat_model  lease_commence_date  \\\n",
       "0     07 TO 09            60.0        Improved                 1986   \n",
       "1     01 TO 03            68.0  New Generation                 1981   \n",
       "2     01 TO 03            69.0  New Generation                 1980   \n",
       "3     01 TO 03            68.0  New Generation                 1979   \n",
       "4     07 TO 09            68.0  New Generation                 1980   \n",
       "5     07 TO 09            67.0  New Generation                 1980   \n",
       "6     01 TO 03            68.0  New Generation                 1980   \n",
       "7     01 TO 03            68.0  New Generation                 1981   \n",
       "8     01 TO 03            67.0  New Generation                 1978   \n",
       "9     13 TO 15            68.0  New Generation                 1985   \n",
       "\n",
       "   resale_price  \n",
       "0      255000.0  \n",
       "1      275000.0  \n",
       "2      285000.0  \n",
       "3      290000.0  \n",
       "4      290000.0  \n",
       "5      290000.0  \n",
       "6      290000.0  \n",
       "7      293000.0  \n",
       "8      300000.0  \n",
       "9      307500.0  "
      ]
     },
     "execution_count": 26,
     "metadata": {},
     "output_type": "execute_result"
    }
   ],
   "source": [
    "# Show first 10 rows\n",
    "\n",
    "hdbdf.head(10)"
   ]
  },
  {
   "cell_type": "markdown",
   "metadata": {
    "deletable": false,
    "editable": false,
    "id": "RjXBvUzlZTfN",
    "tags": [],
    "trust": true
   },
   "source": [
    "# Question 2 - Accessing and Filtering DataFrame\n",
    "You decided to do further exploration on the crucial fields in the dataset."
   ]
  },
  {
   "cell_type": "markdown",
   "metadata": {
    "deletable": false,
    "id": "sLVvakU5ZTfN",
    "tags": [],
    "trust": true
   },
   "source": [
    "> **[Question 2a]**  Find out how many unique values are there in the **town** column. Your code should show  **26** as the output."
   ]
  },
  {
   "cell_type": "code",
   "execution_count": 27,
   "metadata": {
    "id": "ZW3f9L84ZTfO"
   },
   "outputs": [
    {
     "data": {
      "text/plain": [
       "array(['ANG MO KIO', 'BEDOK', 'BISHAN', 'BUKIT BATOK', 'BUKIT MERAH',\n",
       "       'BUKIT PANJANG', 'BUKIT TIMAH', 'CENTRAL AREA', 'CHOA CHU KANG',\n",
       "       'CLEMENTI', 'GEYLANG', 'HOUGANG', 'JURONG EAST', 'JURONG WEST',\n",
       "       'KALLANG/WHAMPOA', 'MARINE PARADE', 'PASIR RIS', 'PUNGGOL',\n",
       "       'QUEENSTOWN', 'SEMBAWANG', 'SENGKANG', 'SERANGOON', 'TAMPINES',\n",
       "       'TOA PAYOH', 'WOODLANDS', 'YISHUN'], dtype=object)"
      ]
     },
     "execution_count": 27,
     "metadata": {},
     "output_type": "execute_result"
    }
   ],
   "source": [
    "# Find unique values in town column\n",
    "hdbdf['town'].unique()"
   ]
  },
  {
   "cell_type": "markdown",
   "metadata": {
    "deletable": false,
    "id": "mu8Z370EZTfO",
    "tags": [],
    "trust": true
   },
   "source": [
    "> **[Question 2b]** Select all the records that are \"3 ROOM\" and also \"Model A\". \\\n",
    "> No need to assign the output to any variable, just show the filtered dataframe on the notebook.\\\n",
    "> Your output should looks this:\n",
    ">> ![](markdown_resources/q002b.png)"
   ]
  },
  {
   "cell_type": "code",
   "execution_count": 28,
   "metadata": {
    "id": "fXNm3-SnZTfO"
   },
   "outputs": [],
   "source": [
    "# Subset rows where flat-type= 3 ROOM and and flat_model = Model A\n",
    "\n",
    "hdbdf = hdbdf[(hdbdf['flat_type'] == '3 ROOM') & (hdbdf['flat_model'] =='Model A')]\n"
   ]
  },
  {
   "cell_type": "code",
   "execution_count": 29,
   "metadata": {},
   "outputs": [
    {
     "data": {
      "text/html": [
       "<div>\n",
       "<style scoped>\n",
       "    .dataframe tbody tr th:only-of-type {\n",
       "        vertical-align: middle;\n",
       "    }\n",
       "\n",
       "    .dataframe tbody tr th {\n",
       "        vertical-align: top;\n",
       "    }\n",
       "\n",
       "    .dataframe thead th {\n",
       "        text-align: right;\n",
       "    }\n",
       "</style>\n",
       "<table border=\"1\" class=\"dataframe\">\n",
       "  <thead>\n",
       "    <tr style=\"text-align: right;\">\n",
       "      <th></th>\n",
       "      <th>Tranc_YearMonth</th>\n",
       "      <th>year</th>\n",
       "      <th>town</th>\n",
       "      <th>flat_type</th>\n",
       "      <th>block</th>\n",
       "      <th>street_name</th>\n",
       "      <th>storey_range</th>\n",
       "      <th>floor_area_sqm</th>\n",
       "      <th>flat_model</th>\n",
       "      <th>lease_commence_date</th>\n",
       "      <th>resale_price</th>\n",
       "    </tr>\n",
       "  </thead>\n",
       "  <tbody>\n",
       "    <tr>\n",
       "      <th>102</th>\n",
       "      <td>2015-01</td>\n",
       "      <td>2015</td>\n",
       "      <td>BEDOK</td>\n",
       "      <td>3 ROOM</td>\n",
       "      <td>221B</td>\n",
       "      <td>BEDOK CTRL</td>\n",
       "      <td>04 TO 06</td>\n",
       "      <td>69.0</td>\n",
       "      <td>Model A</td>\n",
       "      <td>2010</td>\n",
       "      <td>458000.0</td>\n",
       "    </tr>\n",
       "    <tr>\n",
       "      <th>103</th>\n",
       "      <td>2015-01</td>\n",
       "      <td>2015</td>\n",
       "      <td>BEDOK</td>\n",
       "      <td>3 ROOM</td>\n",
       "      <td>219A</td>\n",
       "      <td>BEDOK CTRL</td>\n",
       "      <td>16 TO 18</td>\n",
       "      <td>69.0</td>\n",
       "      <td>Model A</td>\n",
       "      <td>2010</td>\n",
       "      <td>500000.0</td>\n",
       "    </tr>\n",
       "    <tr>\n",
       "      <th>185</th>\n",
       "      <td>2015-01</td>\n",
       "      <td>2015</td>\n",
       "      <td>BUKIT BATOK</td>\n",
       "      <td>3 ROOM</td>\n",
       "      <td>414</td>\n",
       "      <td>BT BATOK WEST AVE 4</td>\n",
       "      <td>07 TO 09</td>\n",
       "      <td>73.0</td>\n",
       "      <td>Model A</td>\n",
       "      <td>1987</td>\n",
       "      <td>285000.0</td>\n",
       "    </tr>\n",
       "    <tr>\n",
       "      <th>192</th>\n",
       "      <td>2015-01</td>\n",
       "      <td>2015</td>\n",
       "      <td>BUKIT BATOK</td>\n",
       "      <td>3 ROOM</td>\n",
       "      <td>540</td>\n",
       "      <td>BT BATOK ST 52</td>\n",
       "      <td>10 TO 12</td>\n",
       "      <td>73.0</td>\n",
       "      <td>Model A</td>\n",
       "      <td>1987</td>\n",
       "      <td>298000.0</td>\n",
       "    </tr>\n",
       "    <tr>\n",
       "      <th>194</th>\n",
       "      <td>2015-01</td>\n",
       "      <td>2015</td>\n",
       "      <td>BUKIT BATOK</td>\n",
       "      <td>3 ROOM</td>\n",
       "      <td>249</td>\n",
       "      <td>BT BATOK EAST AVE 5</td>\n",
       "      <td>07 TO 09</td>\n",
       "      <td>73.0</td>\n",
       "      <td>Model A</td>\n",
       "      <td>1985</td>\n",
       "      <td>300000.0</td>\n",
       "    </tr>\n",
       "    <tr>\n",
       "      <th>...</th>\n",
       "      <td>...</td>\n",
       "      <td>...</td>\n",
       "      <td>...</td>\n",
       "      <td>...</td>\n",
       "      <td>...</td>\n",
       "      <td>...</td>\n",
       "      <td>...</td>\n",
       "      <td>...</td>\n",
       "      <td>...</td>\n",
       "      <td>...</td>\n",
       "      <td>...</td>\n",
       "    </tr>\n",
       "    <tr>\n",
       "      <th>185763</th>\n",
       "      <td>2021-04</td>\n",
       "      <td>2021</td>\n",
       "      <td>SENGKANG</td>\n",
       "      <td>3 ROOM</td>\n",
       "      <td>473A</td>\n",
       "      <td>FERNVALE ST</td>\n",
       "      <td>04 TO 06</td>\n",
       "      <td>68.0</td>\n",
       "      <td>Model A</td>\n",
       "      <td>2016</td>\n",
       "      <td>360988.0</td>\n",
       "    </tr>\n",
       "    <tr>\n",
       "      <th>185764</th>\n",
       "      <td>2021-04</td>\n",
       "      <td>2021</td>\n",
       "      <td>SENGKANG</td>\n",
       "      <td>3 ROOM</td>\n",
       "      <td>164B</td>\n",
       "      <td>RIVERVALE CRES</td>\n",
       "      <td>04 TO 06</td>\n",
       "      <td>68.0</td>\n",
       "      <td>Model A</td>\n",
       "      <td>2017</td>\n",
       "      <td>340000.0</td>\n",
       "    </tr>\n",
       "    <tr>\n",
       "      <th>185816</th>\n",
       "      <td>2021-04</td>\n",
       "      <td>2021</td>\n",
       "      <td>TOA PAYOH</td>\n",
       "      <td>3 ROOM</td>\n",
       "      <td>9</td>\n",
       "      <td>JOO SENG RD</td>\n",
       "      <td>13 TO 15</td>\n",
       "      <td>68.0</td>\n",
       "      <td>Model A</td>\n",
       "      <td>2017</td>\n",
       "      <td>520000.0</td>\n",
       "    </tr>\n",
       "    <tr>\n",
       "      <th>185817</th>\n",
       "      <td>2021-04</td>\n",
       "      <td>2021</td>\n",
       "      <td>TOA PAYOH</td>\n",
       "      <td>3 ROOM</td>\n",
       "      <td>7</td>\n",
       "      <td>UPP ALJUNIED LANE</td>\n",
       "      <td>16 TO 18</td>\n",
       "      <td>68.0</td>\n",
       "      <td>Model A</td>\n",
       "      <td>2017</td>\n",
       "      <td>495000.0</td>\n",
       "    </tr>\n",
       "    <tr>\n",
       "      <th>185820</th>\n",
       "      <td>2021-04</td>\n",
       "      <td>2021</td>\n",
       "      <td>WOODLANDS</td>\n",
       "      <td>3 ROOM</td>\n",
       "      <td>302A</td>\n",
       "      <td>WOODLANDS ST 31</td>\n",
       "      <td>04 TO 06</td>\n",
       "      <td>67.0</td>\n",
       "      <td>Model A</td>\n",
       "      <td>2016</td>\n",
       "      <td>352000.0</td>\n",
       "    </tr>\n",
       "  </tbody>\n",
       "</table>\n",
       "<p>10478 rows × 11 columns</p>\n",
       "</div>"
      ],
      "text/plain": [
       "       Tranc_YearMonth  year         town flat_type block  \\\n",
       "102            2015-01  2015        BEDOK    3 ROOM  221B   \n",
       "103            2015-01  2015        BEDOK    3 ROOM  219A   \n",
       "185            2015-01  2015  BUKIT BATOK    3 ROOM   414   \n",
       "192            2015-01  2015  BUKIT BATOK    3 ROOM   540   \n",
       "194            2015-01  2015  BUKIT BATOK    3 ROOM   249   \n",
       "...                ...   ...          ...       ...   ...   \n",
       "185763         2021-04  2021     SENGKANG    3 ROOM  473A   \n",
       "185764         2021-04  2021     SENGKANG    3 ROOM  164B   \n",
       "185816         2021-04  2021    TOA PAYOH    3 ROOM     9   \n",
       "185817         2021-04  2021    TOA PAYOH    3 ROOM     7   \n",
       "185820         2021-04  2021    WOODLANDS    3 ROOM  302A   \n",
       "\n",
       "                street_name storey_range  floor_area_sqm flat_model  \\\n",
       "102              BEDOK CTRL     04 TO 06            69.0    Model A   \n",
       "103              BEDOK CTRL     16 TO 18            69.0    Model A   \n",
       "185     BT BATOK WEST AVE 4     07 TO 09            73.0    Model A   \n",
       "192          BT BATOK ST 52     10 TO 12            73.0    Model A   \n",
       "194     BT BATOK EAST AVE 5     07 TO 09            73.0    Model A   \n",
       "...                     ...          ...             ...        ...   \n",
       "185763          FERNVALE ST     04 TO 06            68.0    Model A   \n",
       "185764       RIVERVALE CRES     04 TO 06            68.0    Model A   \n",
       "185816          JOO SENG RD     13 TO 15            68.0    Model A   \n",
       "185817    UPP ALJUNIED LANE     16 TO 18            68.0    Model A   \n",
       "185820      WOODLANDS ST 31     04 TO 06            67.0    Model A   \n",
       "\n",
       "        lease_commence_date  resale_price  \n",
       "102                    2010      458000.0  \n",
       "103                    2010      500000.0  \n",
       "185                    1987      285000.0  \n",
       "192                    1987      298000.0  \n",
       "194                    1985      300000.0  \n",
       "...                     ...           ...  \n",
       "185763                 2016      360988.0  \n",
       "185764                 2017      340000.0  \n",
       "185816                 2017      520000.0  \n",
       "185817                 2017      495000.0  \n",
       "185820                 2016      352000.0  \n",
       "\n",
       "[10478 rows x 11 columns]"
      ]
     },
     "execution_count": 29,
     "metadata": {},
     "output_type": "execute_result"
    }
   ],
   "source": [
    "hdbdf"
   ]
  },
  {
   "cell_type": "markdown",
   "metadata": {
    "deletable": false,
    "id": "hXT-f1mZZTfO",
    "tags": [],
    "trust": true
   },
   "source": [
    "> **[Question 2c]** Find out the minimum, average, and maximum **floor_area_sqm** and print the following exact statements:\n",
    ">> Minimum floor area = 31.0 squared meters\\\n",
    ">> Average floor area = 97.2 squared meters\\\n",
    ">> Maximum floor area = 280.0 squared meters"
   ]
  },
  {
   "cell_type": "code",
   "execution_count": 30,
   "metadata": {
    "id": "oxeCjdNdZTfO"
   },
   "outputs": [
    {
     "name": "stdout",
     "output_type": "stream",
     "text": [
      "Minimum floor area = 60.0 squared meters\n",
      "Average floor area = 71.68257301011643 squared meters\n",
      "Maximum floor area = 104.0 squared meters\n"
     ]
    }
   ],
   "source": [
    "print(f'Minimum floor area =', hdbdf['floor_area_sqm'].min(), 'squared meters')\n",
    "print(f'Average floor area =', hdbdf['floor_area_sqm'].mean(), 'squared meters')\n",
    "print(f'Maximum floor area =',hdbdf['floor_area_sqm'].max(), 'squared meters')\n"
   ]
  },
  {
   "cell_type": "markdown",
   "metadata": {
    "deletable": false,
    "id": "kWr_g5nwZTfO",
    "tags": [],
    "trust": true
   },
   "source": [
    "> **[Question 2d]** Display a sorted dataframe, to have the records ordered from the highest **resale_price** to the lowest **resale_price**. \\\n",
    "> No need to assign the sorted dataframe to any variable, just display the output on the notebook."
   ]
  },
  {
   "cell_type": "code",
   "execution_count": 31,
   "metadata": {
    "id": "6idkpDdWZTfP"
   },
   "outputs": [
    {
     "data": {
      "text/plain": [
       "114741    728000.0\n",
       "115765    705000.0\n",
       "101456    700000.0\n",
       "99568     690000.0\n",
       "110121    685000.0\n",
       "            ...   \n",
       "106994    220000.0\n",
       "73986     220000.0\n",
       "109408    218000.0\n",
       "111731    215000.0\n",
       "85136     200000.0\n",
       "Name: resale_price, Length: 10478, dtype: float64"
      ]
     },
     "execution_count": 31,
     "metadata": {},
     "output_type": "execute_result"
    }
   ],
   "source": [
    "hdbdf['resale_price'].sort_values(ascending=False)"
   ]
  },
  {
   "cell_type": "markdown",
   "metadata": {
    "deletable": false,
    "id": "ZiFFQP0KZTfP",
    "tags": [],
    "trust": true
   },
   "source": [
    "> **[Question 2e]** Display a sorted dataframe, with the following three combined sorting criteria in the exact order:\n",
    "> 1. **year**, with the latest year to the earliest year\n",
    "> 2. **town**, with alphabetical order (A to Z)\n",
    "> 3. **resale_price**, with the highest to the lowest value\n",
    ">\n",
    "> No need to assign the sorted dataframe to any variable, just display the sorted dataframe on the notebook. Your output should look like this:\n",
    ">>![](markdown_resources/q002e.png)"
   ]
  },
  {
   "cell_type": "code",
   "execution_count": 32,
   "metadata": {
    "id": "5XilS3RgZTfP"
   },
   "outputs": [
    {
     "data": {
      "text/html": [
       "<div>\n",
       "<style scoped>\n",
       "    .dataframe tbody tr th:only-of-type {\n",
       "        vertical-align: middle;\n",
       "    }\n",
       "\n",
       "    .dataframe tbody tr th {\n",
       "        vertical-align: top;\n",
       "    }\n",
       "\n",
       "    .dataframe thead th {\n",
       "        text-align: right;\n",
       "    }\n",
       "</style>\n",
       "<table border=\"1\" class=\"dataframe\">\n",
       "  <thead>\n",
       "    <tr style=\"text-align: right;\">\n",
       "      <th></th>\n",
       "      <th>Tranc_YearMonth</th>\n",
       "      <th>year</th>\n",
       "      <th>town</th>\n",
       "      <th>flat_type</th>\n",
       "      <th>block</th>\n",
       "      <th>street_name</th>\n",
       "      <th>storey_range</th>\n",
       "      <th>floor_area_sqm</th>\n",
       "      <th>flat_model</th>\n",
       "      <th>lease_commence_date</th>\n",
       "      <th>resale_price</th>\n",
       "    </tr>\n",
       "  </thead>\n",
       "  <tbody>\n",
       "    <tr>\n",
       "      <th>127336</th>\n",
       "      <td>2021-03</td>\n",
       "      <td>2021</td>\n",
       "      <td>ANG MO KIO</td>\n",
       "      <td>3 ROOM</td>\n",
       "      <td>308A</td>\n",
       "      <td>ANG MO KIO AVE 1</td>\n",
       "      <td>28 TO 30</td>\n",
       "      <td>70.0</td>\n",
       "      <td>Model A</td>\n",
       "      <td>2012</td>\n",
       "      <td>510000.0</td>\n",
       "    </tr>\n",
       "    <tr>\n",
       "      <th>125441</th>\n",
       "      <td>2021-02</td>\n",
       "      <td>2021</td>\n",
       "      <td>ANG MO KIO</td>\n",
       "      <td>3 ROOM</td>\n",
       "      <td>308B</td>\n",
       "      <td>ANG MO KIO AVE 1</td>\n",
       "      <td>13 TO 15</td>\n",
       "      <td>70.0</td>\n",
       "      <td>Model A</td>\n",
       "      <td>2012</td>\n",
       "      <td>509000.0</td>\n",
       "    </tr>\n",
       "    <tr>\n",
       "      <th>129497</th>\n",
       "      <td>2021-04</td>\n",
       "      <td>2021</td>\n",
       "      <td>ANG MO KIO</td>\n",
       "      <td>3 ROOM</td>\n",
       "      <td>650</td>\n",
       "      <td>ANG MO KIO ST 61</td>\n",
       "      <td>19 TO 21</td>\n",
       "      <td>67.0</td>\n",
       "      <td>Model A</td>\n",
       "      <td>2015</td>\n",
       "      <td>473000.0</td>\n",
       "    </tr>\n",
       "    <tr>\n",
       "      <th>123258</th>\n",
       "      <td>2021-01</td>\n",
       "      <td>2021</td>\n",
       "      <td>ANG MO KIO</td>\n",
       "      <td>3 ROOM</td>\n",
       "      <td>650</td>\n",
       "      <td>ANG MO KIO ST 61</td>\n",
       "      <td>07 TO 09</td>\n",
       "      <td>67.0</td>\n",
       "      <td>Model A</td>\n",
       "      <td>2015</td>\n",
       "      <td>438000.0</td>\n",
       "    </tr>\n",
       "    <tr>\n",
       "      <th>123257</th>\n",
       "      <td>2021-01</td>\n",
       "      <td>2021</td>\n",
       "      <td>ANG MO KIO</td>\n",
       "      <td>3 ROOM</td>\n",
       "      <td>650</td>\n",
       "      <td>ANG MO KIO ST 61</td>\n",
       "      <td>07 TO 09</td>\n",
       "      <td>67.0</td>\n",
       "      <td>Model A</td>\n",
       "      <td>2015</td>\n",
       "      <td>433000.0</td>\n",
       "    </tr>\n",
       "    <tr>\n",
       "      <th>...</th>\n",
       "      <td>...</td>\n",
       "      <td>...</td>\n",
       "      <td>...</td>\n",
       "      <td>...</td>\n",
       "      <td>...</td>\n",
       "      <td>...</td>\n",
       "      <td>...</td>\n",
       "      <td>...</td>\n",
       "      <td>...</td>\n",
       "      <td>...</td>\n",
       "      <td>...</td>\n",
       "    </tr>\n",
       "    <tr>\n",
       "      <th>135489</th>\n",
       "      <td>2012-04</td>\n",
       "      <td>2012</td>\n",
       "      <td>YISHUN</td>\n",
       "      <td>3 ROOM</td>\n",
       "      <td>397</td>\n",
       "      <td>YISHUN AVE 6</td>\n",
       "      <td>01 TO 05</td>\n",
       "      <td>73.0</td>\n",
       "      <td>Model A</td>\n",
       "      <td>1989</td>\n",
       "      <td>300000.0</td>\n",
       "    </tr>\n",
       "    <tr>\n",
       "      <th>137800</th>\n",
       "      <td>2012-05</td>\n",
       "      <td>2012</td>\n",
       "      <td>YISHUN</td>\n",
       "      <td>3 ROOM</td>\n",
       "      <td>409</td>\n",
       "      <td>YISHUN RING RD</td>\n",
       "      <td>01 TO 05</td>\n",
       "      <td>74.0</td>\n",
       "      <td>Model A</td>\n",
       "      <td>1988</td>\n",
       "      <td>300000.0</td>\n",
       "    </tr>\n",
       "    <tr>\n",
       "      <th>137801</th>\n",
       "      <td>2012-05</td>\n",
       "      <td>2012</td>\n",
       "      <td>YISHUN</td>\n",
       "      <td>3 ROOM</td>\n",
       "      <td>397</td>\n",
       "      <td>YISHUN AVE 6</td>\n",
       "      <td>06 TO 10</td>\n",
       "      <td>73.0</td>\n",
       "      <td>Model A</td>\n",
       "      <td>1989</td>\n",
       "      <td>300000.0</td>\n",
       "    </tr>\n",
       "    <tr>\n",
       "      <th>133316</th>\n",
       "      <td>2012-03</td>\n",
       "      <td>2012</td>\n",
       "      <td>YISHUN</td>\n",
       "      <td>3 ROOM</td>\n",
       "      <td>393</td>\n",
       "      <td>YISHUN AVE 6</td>\n",
       "      <td>01 TO 05</td>\n",
       "      <td>73.0</td>\n",
       "      <td>Model A</td>\n",
       "      <td>1988</td>\n",
       "      <td>297000.0</td>\n",
       "    </tr>\n",
       "    <tr>\n",
       "      <th>135487</th>\n",
       "      <td>2012-04</td>\n",
       "      <td>2012</td>\n",
       "      <td>YISHUN</td>\n",
       "      <td>3 ROOM</td>\n",
       "      <td>397</td>\n",
       "      <td>YISHUN AVE 6</td>\n",
       "      <td>01 TO 05</td>\n",
       "      <td>73.0</td>\n",
       "      <td>Model A</td>\n",
       "      <td>1989</td>\n",
       "      <td>297000.0</td>\n",
       "    </tr>\n",
       "  </tbody>\n",
       "</table>\n",
       "<p>10478 rows × 11 columns</p>\n",
       "</div>"
      ],
      "text/plain": [
       "       Tranc_YearMonth  year        town flat_type block       street_name  \\\n",
       "127336         2021-03  2021  ANG MO KIO    3 ROOM  308A  ANG MO KIO AVE 1   \n",
       "125441         2021-02  2021  ANG MO KIO    3 ROOM  308B  ANG MO KIO AVE 1   \n",
       "129497         2021-04  2021  ANG MO KIO    3 ROOM   650  ANG MO KIO ST 61   \n",
       "123258         2021-01  2021  ANG MO KIO    3 ROOM   650  ANG MO KIO ST 61   \n",
       "123257         2021-01  2021  ANG MO KIO    3 ROOM   650  ANG MO KIO ST 61   \n",
       "...                ...   ...         ...       ...   ...               ...   \n",
       "135489         2012-04  2012      YISHUN    3 ROOM   397      YISHUN AVE 6   \n",
       "137800         2012-05  2012      YISHUN    3 ROOM   409    YISHUN RING RD   \n",
       "137801         2012-05  2012      YISHUN    3 ROOM   397      YISHUN AVE 6   \n",
       "133316         2012-03  2012      YISHUN    3 ROOM   393      YISHUN AVE 6   \n",
       "135487         2012-04  2012      YISHUN    3 ROOM   397      YISHUN AVE 6   \n",
       "\n",
       "       storey_range  floor_area_sqm flat_model  lease_commence_date  \\\n",
       "127336     28 TO 30            70.0    Model A                 2012   \n",
       "125441     13 TO 15            70.0    Model A                 2012   \n",
       "129497     19 TO 21            67.0    Model A                 2015   \n",
       "123258     07 TO 09            67.0    Model A                 2015   \n",
       "123257     07 TO 09            67.0    Model A                 2015   \n",
       "...             ...             ...        ...                  ...   \n",
       "135489     01 TO 05            73.0    Model A                 1989   \n",
       "137800     01 TO 05            74.0    Model A                 1988   \n",
       "137801     06 TO 10            73.0    Model A                 1989   \n",
       "133316     01 TO 05            73.0    Model A                 1988   \n",
       "135487     01 TO 05            73.0    Model A                 1989   \n",
       "\n",
       "        resale_price  \n",
       "127336      510000.0  \n",
       "125441      509000.0  \n",
       "129497      473000.0  \n",
       "123258      438000.0  \n",
       "123257      433000.0  \n",
       "...              ...  \n",
       "135489      300000.0  \n",
       "137800      300000.0  \n",
       "137801      300000.0  \n",
       "133316      297000.0  \n",
       "135487      297000.0  \n",
       "\n",
       "[10478 rows x 11 columns]"
      ]
     },
     "execution_count": 32,
     "metadata": {},
     "output_type": "execute_result"
    }
   ],
   "source": [
    "hdbdf.sort_values(by=['year','town','resale_price'], ascending= [False, True, False])"
   ]
  },
  {
   "cell_type": "markdown",
   "metadata": {
    "deletable": false,
    "editable": false,
    "id": "t6fkQLWaZTfP",
    "tags": [],
    "trust": true
   },
   "source": [
    "# Question 3 - Modifying Values in DataFrame\n",
    "While you were doing your exploration, your supervisor tells you to focus on last 5 years of data."
   ]
  },
  {
   "cell_type": "markdown",
   "metadata": {
    "deletable": false,
    "id": "eLb5OFO4ZTfQ",
    "tags": [],
    "trust": true
   },
   "source": [
    "> **[ Question 3a ]** Filter **hdbdf** so that it will only contain records from **year** 2017 and onward.\\\n",
    "> The remaining of this notebook will use **hdbdf** with the filtered data."
   ]
  },
  {
   "cell_type": "code",
   "execution_count": 33,
   "metadata": {
    "id": "vYZDw5CGZTfQ"
   },
   "outputs": [
    {
     "data": {
      "text/plain": [
       "(5795, 11)"
      ]
     },
     "execution_count": 33,
     "metadata": {},
     "output_type": "execute_result"
    }
   ],
   "source": [
    "hdbdf = hdbdf[hdbdf['year']>=2017]\n",
    "hdbdf.shape"
   ]
  },
  {
   "cell_type": "markdown",
   "metadata": {
    "deletable": false,
    "id": "9OIDUursZTfQ",
    "tags": [],
    "trust": true
   },
   "source": [
    "> **[ Question 3b ]** Show the number of records for each of the **year** in your **hdbdf** dataframe.\n",
    "> Your output should look like this:\n",
    ">> ![](markdown_resources/q003b.png)"
   ]
  },
  {
   "cell_type": "code",
   "execution_count": 34,
   "metadata": {
    "id": "oplL5nZDZTfR",
    "scrolled": true
   },
   "outputs": [
    {
     "data": {
      "text/plain": [
       "year\n",
       "2017    1090\n",
       "2018    1229\n",
       "2019    1460\n",
       "2020    1486\n",
       "2021     530\n",
       "Name: year, dtype: int64"
      ]
     },
     "execution_count": 34,
     "metadata": {},
     "output_type": "execute_result"
    }
   ],
   "source": [
    "hdbdf.groupby('year')['year'].count()"
   ]
  },
  {
   "cell_type": "markdown",
   "metadata": {},
   "source": [
    "After filtering your data, you continue to explore and clean data..."
   ]
  },
  {
   "cell_type": "markdown",
   "metadata": {
    "deletable": false,
    "id": "_MTpv2__ZTfR",
    "tags": [],
    "trust": true
   },
   "source": [
    "> **[ Question 3c ]** Check **flat_type** for any typo errors and clean them accordingly. <br/>\n",
    ">💡<b>Hint </b> : There is only **one** category with error.<br/>\n",
    ">💡<b>Hint </b> : Don't worry if you get a **warning message**, starting with \" ... SettingWithCopyWarning:\" in the first line.<br/>"
   ]
  },
  {
   "cell_type": "code",
   "execution_count": 35,
   "metadata": {
    "id": "L6w0jrzPZTfR"
   },
   "outputs": [
    {
     "data": {
      "text/plain": [
       "array(['3 ROOM'], dtype=object)"
      ]
     },
     "execution_count": 35,
     "metadata": {},
     "output_type": "execute_result"
    }
   ],
   "source": [
    "hdbdf['flat_type'].unique()"
   ]
  },
  {
   "cell_type": "code",
   "execution_count": 36,
   "metadata": {},
   "outputs": [
    {
     "name": "stderr",
     "output_type": "stream",
     "text": [
      "<ipython-input-36-05b8c1a18f16>:3: SettingWithCopyWarning: \n",
      "A value is trying to be set on a copy of a slice from a DataFrame.\n",
      "Try using .loc[row_indexer,col_indexer] = value instead\n",
      "\n",
      "See the caveats in the documentation: https://pandas.pydata.org/pandas-docs/stable/user_guide/indexing.html#returning-a-view-versus-a-copy\n",
      "  hdbdf['flat_type'] = hdbdf['flat_type'].replace(['4 ROOOM'], '4 ROOM')\n"
     ]
    }
   ],
   "source": [
    "# Replace '4 ROOOM' in flat type column with '4 ROOM'\n",
    "\n",
    "hdbdf['flat_type'] = hdbdf['flat_type'].replace(['4 ROOOM'], '4 ROOM')"
   ]
  },
  {
   "cell_type": "code",
   "execution_count": 37,
   "metadata": {},
   "outputs": [
    {
     "data": {
      "text/plain": [
       "array(['3 ROOM'], dtype=object)"
      ]
     },
     "execution_count": 37,
     "metadata": {},
     "output_type": "execute_result"
    }
   ],
   "source": [
    "hdbdf['flat_type'].unique()"
   ]
  },
  {
   "cell_type": "markdown",
   "metadata": {
    "deletable": false,
    "editable": false,
    "id": "KDumnSWnZTfS",
    "tags": [],
    "trust": true
   },
   "source": [
    "# Question 4 - Groupby and Aggregation"
   ]
  },
  {
   "cell_type": "markdown",
   "metadata": {
    "deletable": false,
    "editable": false,
    "id": "uKJUTqUzZTfS",
    "tags": [],
    "trust": true
   },
   "source": [
    "> MYTH: HDB flat prices have been increasing over the years.\n",
    "\n",
    "After all the exploration and cleaning, you start to work on your task."
   ]
  },
  {
   "cell_type": "markdown",
   "metadata": {
    "deletable": false,
    "id": "33CXMFkVZTfS",
    "tags": [],
    "trust": true
   },
   "source": [
    "> **[ Question 4a ]** Find the average of resale price for each year. <br/>\n",
    "> No need to assign the output to any variable, just show the output on the notebook"
   ]
  },
  {
   "cell_type": "code",
   "execution_count": 38,
   "metadata": {
    "id": "4BNperRXZTfS"
   },
   "outputs": [
    {
     "data": {
      "text/plain": [
       "year\n",
       "2017    340231.916514\n",
       "2018    336853.745321\n",
       "2019    332509.376712\n",
       "2020    344736.718035\n",
       "2021    371590.284906\n",
       "Name: resale_price, dtype: float64"
      ]
     },
     "execution_count": 38,
     "metadata": {},
     "output_type": "execute_result"
    }
   ],
   "source": [
    "hdbdf.groupby('year')['resale_price'].mean()"
   ]
  },
  {
   "cell_type": "markdown",
   "metadata": {
    "deletable": false,
    "editable": false,
    "id": "gg8FJanmZTfT",
    "tags": [],
    "trust": true
   },
   "source": [
    "Your supervisor advised that you shouldn't use mean resale price as it doesn't take into account the flat size."
   ]
  },
  {
   "cell_type": "markdown",
   "metadata": {
    "deletable": false,
    "id": "_fUeKQ8yZTfT",
    "tags": [],
    "trust": true
   },
   "source": [
    "> **[ Question 4b ]**  Create a new column **price_per_sqm** by dividing **resale_price** with **floor_area_sqm**. \n",
    "<br/> Then, find the average of **price_per_sqm** (resale price per squared meter) for every year instead. No need to assign the output to any variable, just show the output on the notebook. </br>\n",
    "\n",
    ">💡<b>Hint </b> : Don't worry if you get a **warning message**, starting with \" ... SettingWithCopyWarning:\" in the first line of the message.<br/>"
   ]
  },
  {
   "cell_type": "code",
   "execution_count": 39,
   "metadata": {
    "id": "F2R3ui9NZTfT"
   },
   "outputs": [
    {
     "name": "stderr",
     "output_type": "stream",
     "text": [
      "<ipython-input-39-e84b63727cbe>:1: SettingWithCopyWarning: \n",
      "A value is trying to be set on a copy of a slice from a DataFrame.\n",
      "Try using .loc[row_indexer,col_indexer] = value instead\n",
      "\n",
      "See the caveats in the documentation: https://pandas.pydata.org/pandas-docs/stable/user_guide/indexing.html#returning-a-view-versus-a-copy\n",
      "  hdbdf['price_per_sqm'] = hdbdf['resale_price']/hdbdf['floor_area_sqm']\n"
     ]
    }
   ],
   "source": [
    "hdbdf['price_per_sqm'] = hdbdf['resale_price']/hdbdf['floor_area_sqm']"
   ]
  },
  {
   "cell_type": "code",
   "execution_count": 40,
   "metadata": {
    "id": "NMY2PNzzZTfT"
   },
   "outputs": [
    {
     "data": {
      "text/plain": [
       "37137     4133.333333\n",
       "37211     3561.643836\n",
       "37215     3808.219178\n",
       "37217     3835.616438\n",
       "37220     3904.109589\n",
       "             ...     \n",
       "185763    5308.647059\n",
       "185764    5000.000000\n",
       "185816    7647.058824\n",
       "185817    7279.411765\n",
       "185820    5253.731343\n",
       "Name: price_per_sqm, Length: 5795, dtype: float64"
      ]
     },
     "execution_count": 40,
     "metadata": {},
     "output_type": "execute_result"
    }
   ],
   "source": [
    "hdbdf['price_per_sqm']"
   ]
  },
  {
   "cell_type": "markdown",
   "metadata": {
    "deletable": false,
    "editable": false,
    "id": "cbvhUB54ZTfT",
    "tags": [],
    "trust": true
   },
   "source": [
    "You presented this result to your director.<br/>\n",
    "He commended you on the use of price_per_sqm instead of resale price for a better analysis.<br/>\n",
    "He suggested to add in regions for a more complete analysis. This is because different regions may have varying prices."
   ]
  },
  {
   "cell_type": "markdown",
   "metadata": {
    "deletable": false,
    "editable": false,
    "id": "ofst-XmNZTfT",
    "tags": [],
    "trust": true
   },
   "source": [
    "# Question 5 - Merge and Join Tables\n",
    "\n",
    "The data engineer has helped to scrap the information you need from https://en.wikipedia.org/wiki/Planning_Areas_of_Singapore, and stored the list of towns and their respective region in a csv file called **regions.csv**"
   ]
  },
  {
   "cell_type": "markdown",
   "metadata": {
    "deletable": false,
    "id": "MYVykJNNZTfT",
    "tags": [],
    "trust": true
   },
   "source": [
    "> **[ Question 5a ]** Read in **regions.csv** as DataFrame and merge it to your main dataset **hdbdf**. Store the merged table in the same **hdbdf** variable.<br/>\n",
    "<br/>\n",
    ">💡 **Hint:** Note that not all the 26 towns from your **hdbdf** are in the CSV file **regions.csv**.<br/>\n",
    ">💡 **Hint:** Town values in both **regions.csv** and your **hdbdf** are in different capitalisations (uppercase and lowercase)."
   ]
  },
  {
   "cell_type": "code",
   "execution_count": 41,
   "metadata": {
    "id": "FKR3NBZ2ZTfU"
   },
   "outputs": [],
   "source": [
    "regiondf= pd.read_csv('regions.csv')"
   ]
  },
  {
   "cell_type": "code",
   "execution_count": 42,
   "metadata": {
    "id": "QZ69HFbLZTfU"
   },
   "outputs": [
    {
     "data": {
      "text/html": [
       "<div>\n",
       "<style scoped>\n",
       "    .dataframe tbody tr th:only-of-type {\n",
       "        vertical-align: middle;\n",
       "    }\n",
       "\n",
       "    .dataframe tbody tr th {\n",
       "        vertical-align: top;\n",
       "    }\n",
       "\n",
       "    .dataframe thead th {\n",
       "        text-align: right;\n",
       "    }\n",
       "</style>\n",
       "<table border=\"1\" class=\"dataframe\">\n",
       "  <thead>\n",
       "    <tr style=\"text-align: right;\">\n",
       "      <th></th>\n",
       "      <th>town</th>\n",
       "      <th>region</th>\n",
       "    </tr>\n",
       "  </thead>\n",
       "  <tbody>\n",
       "    <tr>\n",
       "      <th>0</th>\n",
       "      <td>Ang Mo Kio</td>\n",
       "      <td>North-East</td>\n",
       "    </tr>\n",
       "    <tr>\n",
       "      <th>1</th>\n",
       "      <td>Bedok</td>\n",
       "      <td>East</td>\n",
       "    </tr>\n",
       "    <tr>\n",
       "      <th>2</th>\n",
       "      <td>Bishan</td>\n",
       "      <td>Central</td>\n",
       "    </tr>\n",
       "    <tr>\n",
       "      <th>3</th>\n",
       "      <td>Boon Lay</td>\n",
       "      <td>West</td>\n",
       "    </tr>\n",
       "    <tr>\n",
       "      <th>4</th>\n",
       "      <td>Bukit Batok</td>\n",
       "      <td>West</td>\n",
       "    </tr>\n",
       "  </tbody>\n",
       "</table>\n",
       "</div>"
      ],
      "text/plain": [
       "          town      region\n",
       "0   Ang Mo Kio  North-East\n",
       "1        Bedok        East\n",
       "2       Bishan     Central\n",
       "3     Boon Lay        West\n",
       "4  Bukit Batok        West"
      ]
     },
     "execution_count": 42,
     "metadata": {},
     "output_type": "execute_result"
    }
   ],
   "source": [
    "regiondf.head()"
   ]
  },
  {
   "cell_type": "code",
   "execution_count": 43,
   "metadata": {},
   "outputs": [
    {
     "data": {
      "text/plain": [
       "37137           BEDOK\n",
       "37211     BUKIT BATOK\n",
       "37215     BUKIT BATOK\n",
       "37217     BUKIT BATOK\n",
       "37220     BUKIT BATOK\n",
       "             ...     \n",
       "185763       SENGKANG\n",
       "185764       SENGKANG\n",
       "185816      TOA PAYOH\n",
       "185817      TOA PAYOH\n",
       "185820      WOODLANDS\n",
       "Name: town, Length: 5795, dtype: object"
      ]
     },
     "execution_count": 43,
     "metadata": {},
     "output_type": "execute_result"
    }
   ],
   "source": [
    "hdbdf['town']"
   ]
  },
  {
   "cell_type": "code",
   "execution_count": 44,
   "metadata": {
    "id": "OEmx--4zZTfU"
   },
   "outputs": [],
   "source": [
    "# Convert town in regiondf to uppercase\n",
    "regiondf['town'] = regiondf['town'].str.upper()"
   ]
  },
  {
   "cell_type": "code",
   "execution_count": 45,
   "metadata": {},
   "outputs": [
    {
     "data": {
      "text/html": [
       "<div>\n",
       "<style scoped>\n",
       "    .dataframe tbody tr th:only-of-type {\n",
       "        vertical-align: middle;\n",
       "    }\n",
       "\n",
       "    .dataframe tbody tr th {\n",
       "        vertical-align: top;\n",
       "    }\n",
       "\n",
       "    .dataframe thead th {\n",
       "        text-align: right;\n",
       "    }\n",
       "</style>\n",
       "<table border=\"1\" class=\"dataframe\">\n",
       "  <thead>\n",
       "    <tr style=\"text-align: right;\">\n",
       "      <th></th>\n",
       "      <th>town</th>\n",
       "      <th>region</th>\n",
       "    </tr>\n",
       "  </thead>\n",
       "  <tbody>\n",
       "    <tr>\n",
       "      <th>0</th>\n",
       "      <td>ANG MO KIO</td>\n",
       "      <td>North-East</td>\n",
       "    </tr>\n",
       "    <tr>\n",
       "      <th>1</th>\n",
       "      <td>BEDOK</td>\n",
       "      <td>East</td>\n",
       "    </tr>\n",
       "    <tr>\n",
       "      <th>2</th>\n",
       "      <td>BISHAN</td>\n",
       "      <td>Central</td>\n",
       "    </tr>\n",
       "    <tr>\n",
       "      <th>3</th>\n",
       "      <td>BOON LAY</td>\n",
       "      <td>West</td>\n",
       "    </tr>\n",
       "    <tr>\n",
       "      <th>4</th>\n",
       "      <td>BUKIT BATOK</td>\n",
       "      <td>West</td>\n",
       "    </tr>\n",
       "  </tbody>\n",
       "</table>\n",
       "</div>"
      ],
      "text/plain": [
       "          town      region\n",
       "0   ANG MO KIO  North-East\n",
       "1        BEDOK        East\n",
       "2       BISHAN     Central\n",
       "3     BOON LAY        West\n",
       "4  BUKIT BATOK        West"
      ]
     },
     "execution_count": 45,
     "metadata": {},
     "output_type": "execute_result"
    }
   ],
   "source": [
    "regiondf.head()"
   ]
  },
  {
   "cell_type": "code",
   "execution_count": 46,
   "metadata": {},
   "outputs": [],
   "source": [
    "hdbdf = pd.merge(hdbdf, regiondf, how='left', on='town')"
   ]
  },
  {
   "cell_type": "code",
   "execution_count": 47,
   "metadata": {},
   "outputs": [
    {
     "data": {
      "text/html": [
       "<div>\n",
       "<style scoped>\n",
       "    .dataframe tbody tr th:only-of-type {\n",
       "        vertical-align: middle;\n",
       "    }\n",
       "\n",
       "    .dataframe tbody tr th {\n",
       "        vertical-align: top;\n",
       "    }\n",
       "\n",
       "    .dataframe thead th {\n",
       "        text-align: right;\n",
       "    }\n",
       "</style>\n",
       "<table border=\"1\" class=\"dataframe\">\n",
       "  <thead>\n",
       "    <tr style=\"text-align: right;\">\n",
       "      <th></th>\n",
       "      <th>Tranc_YearMonth</th>\n",
       "      <th>year</th>\n",
       "      <th>town</th>\n",
       "      <th>flat_type</th>\n",
       "      <th>block</th>\n",
       "      <th>street_name</th>\n",
       "      <th>storey_range</th>\n",
       "      <th>floor_area_sqm</th>\n",
       "      <th>flat_model</th>\n",
       "      <th>lease_commence_date</th>\n",
       "      <th>resale_price</th>\n",
       "      <th>price_per_sqm</th>\n",
       "      <th>region</th>\n",
       "    </tr>\n",
       "  </thead>\n",
       "  <tbody>\n",
       "    <tr>\n",
       "      <th>0</th>\n",
       "      <td>2017-01</td>\n",
       "      <td>2017</td>\n",
       "      <td>BEDOK</td>\n",
       "      <td>3 ROOM</td>\n",
       "      <td>55</td>\n",
       "      <td>CHAI CHEE DR</td>\n",
       "      <td>04 TO 06</td>\n",
       "      <td>75.0</td>\n",
       "      <td>Model A</td>\n",
       "      <td>1984</td>\n",
       "      <td>310000.0</td>\n",
       "      <td>4133.333333</td>\n",
       "      <td>East</td>\n",
       "    </tr>\n",
       "    <tr>\n",
       "      <th>1</th>\n",
       "      <td>2017-01</td>\n",
       "      <td>2017</td>\n",
       "      <td>BUKIT BATOK</td>\n",
       "      <td>3 ROOM</td>\n",
       "      <td>537</td>\n",
       "      <td>BT BATOK ST 52</td>\n",
       "      <td>01 TO 03</td>\n",
       "      <td>73.0</td>\n",
       "      <td>Model A</td>\n",
       "      <td>1987</td>\n",
       "      <td>260000.0</td>\n",
       "      <td>3561.643836</td>\n",
       "      <td>West</td>\n",
       "    </tr>\n",
       "    <tr>\n",
       "      <th>2</th>\n",
       "      <td>2017-01</td>\n",
       "      <td>2017</td>\n",
       "      <td>BUKIT BATOK</td>\n",
       "      <td>3 ROOM</td>\n",
       "      <td>130</td>\n",
       "      <td>BT BATOK WEST AVE 6</td>\n",
       "      <td>07 TO 09</td>\n",
       "      <td>73.0</td>\n",
       "      <td>Model A</td>\n",
       "      <td>1984</td>\n",
       "      <td>278000.0</td>\n",
       "      <td>3808.219178</td>\n",
       "      <td>West</td>\n",
       "    </tr>\n",
       "    <tr>\n",
       "      <th>3</th>\n",
       "      <td>2017-01</td>\n",
       "      <td>2017</td>\n",
       "      <td>BUKIT BATOK</td>\n",
       "      <td>3 ROOM</td>\n",
       "      <td>346</td>\n",
       "      <td>BT BATOK ST 34</td>\n",
       "      <td>07 TO 09</td>\n",
       "      <td>73.0</td>\n",
       "      <td>Model A</td>\n",
       "      <td>1986</td>\n",
       "      <td>280000.0</td>\n",
       "      <td>3835.616438</td>\n",
       "      <td>West</td>\n",
       "    </tr>\n",
       "    <tr>\n",
       "      <th>4</th>\n",
       "      <td>2017-01</td>\n",
       "      <td>2017</td>\n",
       "      <td>BUKIT BATOK</td>\n",
       "      <td>3 ROOM</td>\n",
       "      <td>247</td>\n",
       "      <td>BT BATOK EAST AVE 5</td>\n",
       "      <td>07 TO 09</td>\n",
       "      <td>73.0</td>\n",
       "      <td>Model A</td>\n",
       "      <td>1985</td>\n",
       "      <td>285000.0</td>\n",
       "      <td>3904.109589</td>\n",
       "      <td>West</td>\n",
       "    </tr>\n",
       "  </tbody>\n",
       "</table>\n",
       "</div>"
      ],
      "text/plain": [
       "  Tranc_YearMonth  year         town flat_type block          street_name  \\\n",
       "0         2017-01  2017        BEDOK    3 ROOM    55         CHAI CHEE DR   \n",
       "1         2017-01  2017  BUKIT BATOK    3 ROOM   537       BT BATOK ST 52   \n",
       "2         2017-01  2017  BUKIT BATOK    3 ROOM   130  BT BATOK WEST AVE 6   \n",
       "3         2017-01  2017  BUKIT BATOK    3 ROOM   346       BT BATOK ST 34   \n",
       "4         2017-01  2017  BUKIT BATOK    3 ROOM   247  BT BATOK EAST AVE 5   \n",
       "\n",
       "  storey_range  floor_area_sqm flat_model  lease_commence_date  resale_price  \\\n",
       "0     04 TO 06            75.0    Model A                 1984      310000.0   \n",
       "1     01 TO 03            73.0    Model A                 1987      260000.0   \n",
       "2     07 TO 09            73.0    Model A                 1984      278000.0   \n",
       "3     07 TO 09            73.0    Model A                 1986      280000.0   \n",
       "4     07 TO 09            73.0    Model A                 1985      285000.0   \n",
       "\n",
       "   price_per_sqm region  \n",
       "0    4133.333333   East  \n",
       "1    3561.643836   West  \n",
       "2    3808.219178   West  \n",
       "3    3835.616438   West  \n",
       "4    3904.109589   West  "
      ]
     },
     "execution_count": 47,
     "metadata": {},
     "output_type": "execute_result"
    }
   ],
   "source": [
    "hdbdf.head()"
   ]
  },
  {
   "cell_type": "markdown",
   "metadata": {
    "deletable": false,
    "id": "gjXliYUPZTfU",
    "tags": [],
    "trust": true
   },
   "source": [
    "> **[ Question 5b ]** There are some records with missing values in the \"region\" column.<br/>\n",
    "> 1) To examine more into these missing values, create a new dataframe named **nulldf** which contains only records with missing data in the **region** column. <br/>\n",
    "> 2) Find the unique values of <b>town</b> in **nulldf**.\n",
    ">\n",
    ">💡<b>Hint 1</b> : You may use df['*column*'].**isnull()** https://pandas.pydata.org/docs/reference/api/pandas.Series.isnull.html or other ways to help you to generate nulldf.<br/>\n",
    ">💡<b>Hint 2 </b>: Sometimes (actually most of the times), Google and StackOverflow is your best friend."
   ]
  },
  {
   "cell_type": "code",
   "execution_count": 48,
   "metadata": {
    "id": "PkAH42FPZTfU"
   },
   "outputs": [
    {
     "data": {
      "text/html": [
       "<div>\n",
       "<style scoped>\n",
       "    .dataframe tbody tr th:only-of-type {\n",
       "        vertical-align: middle;\n",
       "    }\n",
       "\n",
       "    .dataframe tbody tr th {\n",
       "        vertical-align: top;\n",
       "    }\n",
       "\n",
       "    .dataframe thead th {\n",
       "        text-align: right;\n",
       "    }\n",
       "</style>\n",
       "<table border=\"1\" class=\"dataframe\">\n",
       "  <thead>\n",
       "    <tr style=\"text-align: right;\">\n",
       "      <th></th>\n",
       "      <th>Tranc_YearMonth</th>\n",
       "      <th>year</th>\n",
       "      <th>town</th>\n",
       "      <th>flat_type</th>\n",
       "      <th>block</th>\n",
       "      <th>street_name</th>\n",
       "      <th>storey_range</th>\n",
       "      <th>floor_area_sqm</th>\n",
       "      <th>flat_model</th>\n",
       "      <th>lease_commence_date</th>\n",
       "      <th>resale_price</th>\n",
       "      <th>price_per_sqm</th>\n",
       "      <th>region</th>\n",
       "    </tr>\n",
       "  </thead>\n",
       "  <tbody>\n",
       "    <tr>\n",
       "      <th>13</th>\n",
       "      <td>2017-01</td>\n",
       "      <td>2017</td>\n",
       "      <td>CENTRAL AREA</td>\n",
       "      <td>3 ROOM</td>\n",
       "      <td>640</td>\n",
       "      <td>ROWELL RD</td>\n",
       "      <td>01 TO 03</td>\n",
       "      <td>84.0</td>\n",
       "      <td>Model A</td>\n",
       "      <td>1984</td>\n",
       "      <td>360000.0</td>\n",
       "      <td>4285.714286</td>\n",
       "      <td>NaN</td>\n",
       "    </tr>\n",
       "    <tr>\n",
       "      <th>31</th>\n",
       "      <td>2017-01</td>\n",
       "      <td>2017</td>\n",
       "      <td>KALLANG/WHAMPOA</td>\n",
       "      <td>3 ROOM</td>\n",
       "      <td>107</td>\n",
       "      <td>TOWNER RD</td>\n",
       "      <td>01 TO 03</td>\n",
       "      <td>74.0</td>\n",
       "      <td>Model A</td>\n",
       "      <td>1983</td>\n",
       "      <td>406000.0</td>\n",
       "      <td>5486.486486</td>\n",
       "      <td>NaN</td>\n",
       "    </tr>\n",
       "    <tr>\n",
       "      <th>32</th>\n",
       "      <td>2017-01</td>\n",
       "      <td>2017</td>\n",
       "      <td>KALLANG/WHAMPOA</td>\n",
       "      <td>3 ROOM</td>\n",
       "      <td>105</td>\n",
       "      <td>TOWNER RD</td>\n",
       "      <td>04 TO 06</td>\n",
       "      <td>74.0</td>\n",
       "      <td>Model A</td>\n",
       "      <td>1984</td>\n",
       "      <td>410000.0</td>\n",
       "      <td>5540.540541</td>\n",
       "      <td>NaN</td>\n",
       "    </tr>\n",
       "    <tr>\n",
       "      <th>33</th>\n",
       "      <td>2017-01</td>\n",
       "      <td>2017</td>\n",
       "      <td>KALLANG/WHAMPOA</td>\n",
       "      <td>3 ROOM</td>\n",
       "      <td>12</td>\n",
       "      <td>FARRER PK RD</td>\n",
       "      <td>07 TO 09</td>\n",
       "      <td>62.0</td>\n",
       "      <td>Model A</td>\n",
       "      <td>2004</td>\n",
       "      <td>425000.0</td>\n",
       "      <td>6854.838710</td>\n",
       "      <td>NaN</td>\n",
       "    </tr>\n",
       "    <tr>\n",
       "      <th>34</th>\n",
       "      <td>2017-01</td>\n",
       "      <td>2017</td>\n",
       "      <td>KALLANG/WHAMPOA</td>\n",
       "      <td>3 ROOM</td>\n",
       "      <td>5A</td>\n",
       "      <td>UPP BOON KENG RD</td>\n",
       "      <td>10 TO 12</td>\n",
       "      <td>67.0</td>\n",
       "      <td>Model A</td>\n",
       "      <td>2012</td>\n",
       "      <td>495000.0</td>\n",
       "      <td>7388.059701</td>\n",
       "      <td>NaN</td>\n",
       "    </tr>\n",
       "  </tbody>\n",
       "</table>\n",
       "</div>"
      ],
      "text/plain": [
       "   Tranc_YearMonth  year             town flat_type block       street_name  \\\n",
       "13         2017-01  2017     CENTRAL AREA    3 ROOM   640         ROWELL RD   \n",
       "31         2017-01  2017  KALLANG/WHAMPOA    3 ROOM   107         TOWNER RD   \n",
       "32         2017-01  2017  KALLANG/WHAMPOA    3 ROOM   105         TOWNER RD   \n",
       "33         2017-01  2017  KALLANG/WHAMPOA    3 ROOM    12      FARRER PK RD   \n",
       "34         2017-01  2017  KALLANG/WHAMPOA    3 ROOM    5A  UPP BOON KENG RD   \n",
       "\n",
       "   storey_range  floor_area_sqm flat_model  lease_commence_date  resale_price  \\\n",
       "13     01 TO 03            84.0    Model A                 1984      360000.0   \n",
       "31     01 TO 03            74.0    Model A                 1983      406000.0   \n",
       "32     04 TO 06            74.0    Model A                 1984      410000.0   \n",
       "33     07 TO 09            62.0    Model A                 2004      425000.0   \n",
       "34     10 TO 12            67.0    Model A                 2012      495000.0   \n",
       "\n",
       "    price_per_sqm region  \n",
       "13    4285.714286    NaN  \n",
       "31    5486.486486    NaN  \n",
       "32    5540.540541    NaN  \n",
       "33    6854.838710    NaN  \n",
       "34    7388.059701    NaN  "
      ]
     },
     "execution_count": 48,
     "metadata": {},
     "output_type": "execute_result"
    }
   ],
   "source": [
    "nulldf = hdbdf[hdbdf['region'].isna()]\n",
    "nulldf.head()"
   ]
  },
  {
   "cell_type": "code",
   "execution_count": 49,
   "metadata": {},
   "outputs": [
    {
     "data": {
      "text/plain": [
       "array(['CENTRAL AREA', 'KALLANG/WHAMPOA'], dtype=object)"
      ]
     },
     "execution_count": 49,
     "metadata": {},
     "output_type": "execute_result"
    }
   ],
   "source": [
    "nulldf['town'].unique()"
   ]
  },
  {
   "cell_type": "markdown",
   "metadata": {
    "deletable": false,
    "id": "a22w0J9qZTfU",
    "tags": [],
    "trust": true
   },
   "source": [
    "> **[ Question 5c ]** You have been informed that the records with missing values in the **region** column are belong to the **same region**.<br/>\n",
    "> Fill up the missing values in the **region** column of the **hdbdf** dataframe based on this information.<br/><br/>\n"
   ]
  },
  {
   "cell_type": "code",
   "execution_count": 50,
   "metadata": {
    "id": "xI9s9AMFZTfV"
   },
   "outputs": [],
   "source": [
    "hdbdf['region'].fillna('Central', inplace=True)"
   ]
  },
  {
   "cell_type": "code",
   "execution_count": 51,
   "metadata": {},
   "outputs": [
    {
     "data": {
      "text/plain": [
       "0"
      ]
     },
     "execution_count": 51,
     "metadata": {},
     "output_type": "execute_result"
    }
   ],
   "source": [
    "hdbdf['region'].isna().sum()"
   ]
  },
  {
   "cell_type": "markdown",
   "metadata": {},
   "source": [
    "Null values in column 'region' have been replaced with 'Central'"
   ]
  },
  {
   "cell_type": "markdown",
   "metadata": {
    "deletable": false,
    "editable": false,
    "id": "bbpHwsHUZTfV",
    "tags": [],
    "trust": true
   },
   "source": [
    "# Question 6 - Groupby multiple columns\n",
    "With the new **region** column, you now have all the data needed to handle your director's suggestion to add in regions into your analysis of the average **price_per_sqm** over years. <br/>"
   ]
  },
  {
   "cell_type": "markdown",
   "metadata": {
    "deletable": false,
    "id": "GUKRxxmMZTfV",
    "tags": [],
    "trust": true
   },
   "source": [
    "> **[ Question 6a ]** Find the average **price_per_sqm** for each **region** and **year**, and store the result into a variable called **psmbyregionyeardf**.<br/>\n",
    "<br/>\n",
    ">💡<b>Hint </b>: if you are unable to solve question 5, you can read in data in **hdbdf_q6.csv** and store the data in the **hdbdf** variable before you continue on question 6."
   ]
  },
  {
   "cell_type": "code",
   "execution_count": 52,
   "metadata": {
    "id": "GJgwFDOmZTfV"
   },
   "outputs": [
    {
     "data": {
      "text/plain": [
       "region      year\n",
       "Central     2017    6936.000228\n",
       "            2018    7233.009514\n",
       "            2019    7145.153045\n",
       "            2020    7283.633851\n",
       "            2021    7386.364491\n",
       "East        2017    4563.649839\n",
       "            2018    4607.272000\n",
       "            2019    4725.429123\n",
       "            2020    4837.894306\n",
       "            2021    5164.208364\n",
       "North       2017    4005.332510\n",
       "            2018    3867.137878\n",
       "            2019    4019.973248\n",
       "            2020    4174.603595\n",
       "            2021    4571.284680\n",
       "North-East  2017    4949.752010\n",
       "            2018    4964.420988\n",
       "            2019    4982.169655\n",
       "            2020    5143.212188\n",
       "            2021    5379.940599\n",
       "West        2017    4137.421165\n",
       "            2018    4107.505448\n",
       "            2019    4140.262905\n",
       "            2020    4459.364295\n",
       "            2021    4773.073478\n",
       "Name: price_per_sqm, dtype: float64"
      ]
     },
     "execution_count": 52,
     "metadata": {},
     "output_type": "execute_result"
    }
   ],
   "source": [
    "psmbyregionyeardf = hdbdf.groupby(['region', 'year'])['price_per_sqm'].mean()\n",
    "\n",
    "psmbyregionyeardf\n"
   ]
  },
  {
   "cell_type": "markdown",
   "metadata": {
    "deletable": false,
    "id": "hMTyf-ROZTfV",
    "tags": [],
    "trust": true
   },
   "source": [
    "> **[ Question 6b ]** Reset the index of the **psmbyregionyeardf**. <br/>\n",
    "Rename the column  **price_per_sqm** in **psmbyregionyeardf** to become **avg_region_price_per_sqm_by_year**. <br/>"
   ]
  },
  {
   "cell_type": "code",
   "execution_count": 53,
   "metadata": {
    "id": "jygorDLAZTfV"
   },
   "outputs": [],
   "source": [
    "psmbyregionyeardf = psmbyregionyeardf.reset_index()"
   ]
  },
  {
   "cell_type": "code",
   "execution_count": 54,
   "metadata": {},
   "outputs": [
    {
     "data": {
      "text/html": [
       "<div>\n",
       "<style scoped>\n",
       "    .dataframe tbody tr th:only-of-type {\n",
       "        vertical-align: middle;\n",
       "    }\n",
       "\n",
       "    .dataframe tbody tr th {\n",
       "        vertical-align: top;\n",
       "    }\n",
       "\n",
       "    .dataframe thead th {\n",
       "        text-align: right;\n",
       "    }\n",
       "</style>\n",
       "<table border=\"1\" class=\"dataframe\">\n",
       "  <thead>\n",
       "    <tr style=\"text-align: right;\">\n",
       "      <th></th>\n",
       "      <th>region</th>\n",
       "      <th>year</th>\n",
       "      <th>avg_region_price_per_sqm_by_year</th>\n",
       "    </tr>\n",
       "  </thead>\n",
       "  <tbody>\n",
       "    <tr>\n",
       "      <th>0</th>\n",
       "      <td>Central</td>\n",
       "      <td>2017</td>\n",
       "      <td>6936.000228</td>\n",
       "    </tr>\n",
       "    <tr>\n",
       "      <th>1</th>\n",
       "      <td>Central</td>\n",
       "      <td>2018</td>\n",
       "      <td>7233.009514</td>\n",
       "    </tr>\n",
       "    <tr>\n",
       "      <th>2</th>\n",
       "      <td>Central</td>\n",
       "      <td>2019</td>\n",
       "      <td>7145.153045</td>\n",
       "    </tr>\n",
       "    <tr>\n",
       "      <th>3</th>\n",
       "      <td>Central</td>\n",
       "      <td>2020</td>\n",
       "      <td>7283.633851</td>\n",
       "    </tr>\n",
       "    <tr>\n",
       "      <th>4</th>\n",
       "      <td>Central</td>\n",
       "      <td>2021</td>\n",
       "      <td>7386.364491</td>\n",
       "    </tr>\n",
       "  </tbody>\n",
       "</table>\n",
       "</div>"
      ],
      "text/plain": [
       "    region  year  avg_region_price_per_sqm_by_year\n",
       "0  Central  2017                       6936.000228\n",
       "1  Central  2018                       7233.009514\n",
       "2  Central  2019                       7145.153045\n",
       "3  Central  2020                       7283.633851\n",
       "4  Central  2021                       7386.364491"
      ]
     },
     "execution_count": 54,
     "metadata": {},
     "output_type": "execute_result"
    }
   ],
   "source": [
    "psmbyregionyeardf.rename(columns = {'price_per_sqm': 'avg_region_price_per_sqm_by_year'}, inplace=True)\n",
    "psmbyregionyeardf.head()"
   ]
  },
  {
   "cell_type": "markdown",
   "metadata": {
    "deletable": false,
    "id": "ZUMWwqofZTfW",
    "tags": [],
    "trust": true
   },
   "source": [
    "> **[ Question 6c ]** Plot a line graph with the **avg_region_price_per_sqm_by_year** (y axis) against **year** (x axis) with 5 lines, each representing a **region**. <br/>\n",
    "\n",
    "> 💡 **Hint** : If you are unable to solve questions 6a and 6b, you can read in data in **psmbyregionyeardf.csv** and store the data in the **psmbyregionyeardf** variable before you continue on question 6c."
   ]
  },
  {
   "cell_type": "code",
   "execution_count": 55,
   "metadata": {},
   "outputs": [
    {
     "data": {
      "text/plain": [
       "<matplotlib.axes._subplots.AxesSubplot at 0x1b262a8ba90>"
      ]
     },
     "execution_count": 55,
     "metadata": {},
     "output_type": "execute_result"
    },
    {
     "data": {
      "image/png": "[encoded data removed]",
      "text/plain": [
       "<Figure size 1152x648 with 1 Axes>"
      ]
     },
     "metadata": {
      "image/png": {
       "height": 538,
       "width": 956
      }
     },
     "output_type": "display_data"
    }
   ],
   "source": [
    "sns.lineplot(\n",
    "  x='year', \n",
    "  y ='avg_region_price_per_sqm_by_year', \n",
    "  hue='region', \n",
    "  data= psmbyregionyeardf)\n"
   ]
  },
  {
   "cell_type": "markdown",
   "metadata": {
    "deletable": false,
    "editable": false,
    "id": "RnDSPpDGZTfW",
    "tags": [],
    "trust": true
   },
   "source": [
    "# Question 7 - Further Analyses\n",
    "Intrigued by the result, you decided to explore more on the relationship of **avg_region_price_per_sqm_by_year** with the other columns."
   ]
  },
  {
   "cell_type": "markdown",
   "metadata": {
    "deletable": false,
    "id": "K7ciLC9PZTfW",
    "tags": [],
    "trust": true
   },
   "source": [
    "> **[ Question 7a ]** Merge the **psmbyregionyeardf** into your main table **hdbdf**.\n"
   ]
  },
  {
   "cell_type": "code",
   "execution_count": 56,
   "metadata": {
    "id": "IrkN6b1gZTfW"
   },
   "outputs": [
    {
     "data": {
      "text/html": [
       "<div>\n",
       "<style scoped>\n",
       "    .dataframe tbody tr th:only-of-type {\n",
       "        vertical-align: middle;\n",
       "    }\n",
       "\n",
       "    .dataframe tbody tr th {\n",
       "        vertical-align: top;\n",
       "    }\n",
       "\n",
       "    .dataframe thead th {\n",
       "        text-align: right;\n",
       "    }\n",
       "</style>\n",
       "<table border=\"1\" class=\"dataframe\">\n",
       "  <thead>\n",
       "    <tr style=\"text-align: right;\">\n",
       "      <th></th>\n",
       "      <th>region</th>\n",
       "      <th>year</th>\n",
       "      <th>avg_region_price_per_sqm_by_year</th>\n",
       "    </tr>\n",
       "  </thead>\n",
       "  <tbody>\n",
       "    <tr>\n",
       "      <th>0</th>\n",
       "      <td>Central</td>\n",
       "      <td>2017</td>\n",
       "      <td>6936.000228</td>\n",
       "    </tr>\n",
       "    <tr>\n",
       "      <th>1</th>\n",
       "      <td>Central</td>\n",
       "      <td>2018</td>\n",
       "      <td>7233.009514</td>\n",
       "    </tr>\n",
       "    <tr>\n",
       "      <th>2</th>\n",
       "      <td>Central</td>\n",
       "      <td>2019</td>\n",
       "      <td>7145.153045</td>\n",
       "    </tr>\n",
       "    <tr>\n",
       "      <th>3</th>\n",
       "      <td>Central</td>\n",
       "      <td>2020</td>\n",
       "      <td>7283.633851</td>\n",
       "    </tr>\n",
       "    <tr>\n",
       "      <th>4</th>\n",
       "      <td>Central</td>\n",
       "      <td>2021</td>\n",
       "      <td>7386.364491</td>\n",
       "    </tr>\n",
       "  </tbody>\n",
       "</table>\n",
       "</div>"
      ],
      "text/plain": [
       "    region  year  avg_region_price_per_sqm_by_year\n",
       "0  Central  2017                       6936.000228\n",
       "1  Central  2018                       7233.009514\n",
       "2  Central  2019                       7145.153045\n",
       "3  Central  2020                       7283.633851\n",
       "4  Central  2021                       7386.364491"
      ]
     },
     "execution_count": 56,
     "metadata": {},
     "output_type": "execute_result"
    }
   ],
   "source": [
    "psmbyregionyeardf.head()"
   ]
  },
  {
   "cell_type": "code",
   "execution_count": 57,
   "metadata": {},
   "outputs": [
    {
     "data": {
      "text/html": [
       "<div>\n",
       "<style scoped>\n",
       "    .dataframe tbody tr th:only-of-type {\n",
       "        vertical-align: middle;\n",
       "    }\n",
       "\n",
       "    .dataframe tbody tr th {\n",
       "        vertical-align: top;\n",
       "    }\n",
       "\n",
       "    .dataframe thead th {\n",
       "        text-align: right;\n",
       "    }\n",
       "</style>\n",
       "<table border=\"1\" class=\"dataframe\">\n",
       "  <thead>\n",
       "    <tr style=\"text-align: right;\">\n",
       "      <th></th>\n",
       "      <th>Tranc_YearMonth</th>\n",
       "      <th>year</th>\n",
       "      <th>town</th>\n",
       "      <th>flat_type</th>\n",
       "      <th>block</th>\n",
       "      <th>street_name</th>\n",
       "      <th>storey_range</th>\n",
       "      <th>floor_area_sqm</th>\n",
       "      <th>flat_model</th>\n",
       "      <th>lease_commence_date</th>\n",
       "      <th>resale_price</th>\n",
       "      <th>price_per_sqm</th>\n",
       "      <th>region</th>\n",
       "      <th>avg_region_price_per_sqm_by_year</th>\n",
       "    </tr>\n",
       "  </thead>\n",
       "  <tbody>\n",
       "    <tr>\n",
       "      <th>0</th>\n",
       "      <td>2017-01</td>\n",
       "      <td>2017</td>\n",
       "      <td>BEDOK</td>\n",
       "      <td>3 ROOM</td>\n",
       "      <td>55</td>\n",
       "      <td>CHAI CHEE DR</td>\n",
       "      <td>04 TO 06</td>\n",
       "      <td>75.0</td>\n",
       "      <td>Model A</td>\n",
       "      <td>1984</td>\n",
       "      <td>310000.0</td>\n",
       "      <td>4133.333333</td>\n",
       "      <td>East</td>\n",
       "      <td>4563.649839</td>\n",
       "    </tr>\n",
       "    <tr>\n",
       "      <th>1</th>\n",
       "      <td>2017-01</td>\n",
       "      <td>2017</td>\n",
       "      <td>BUKIT BATOK</td>\n",
       "      <td>3 ROOM</td>\n",
       "      <td>537</td>\n",
       "      <td>BT BATOK ST 52</td>\n",
       "      <td>01 TO 03</td>\n",
       "      <td>73.0</td>\n",
       "      <td>Model A</td>\n",
       "      <td>1987</td>\n",
       "      <td>260000.0</td>\n",
       "      <td>3561.643836</td>\n",
       "      <td>West</td>\n",
       "      <td>4137.421165</td>\n",
       "    </tr>\n",
       "    <tr>\n",
       "      <th>2</th>\n",
       "      <td>2017-01</td>\n",
       "      <td>2017</td>\n",
       "      <td>BUKIT BATOK</td>\n",
       "      <td>3 ROOM</td>\n",
       "      <td>130</td>\n",
       "      <td>BT BATOK WEST AVE 6</td>\n",
       "      <td>07 TO 09</td>\n",
       "      <td>73.0</td>\n",
       "      <td>Model A</td>\n",
       "      <td>1984</td>\n",
       "      <td>278000.0</td>\n",
       "      <td>3808.219178</td>\n",
       "      <td>West</td>\n",
       "      <td>4137.421165</td>\n",
       "    </tr>\n",
       "    <tr>\n",
       "      <th>3</th>\n",
       "      <td>2017-01</td>\n",
       "      <td>2017</td>\n",
       "      <td>BUKIT BATOK</td>\n",
       "      <td>3 ROOM</td>\n",
       "      <td>346</td>\n",
       "      <td>BT BATOK ST 34</td>\n",
       "      <td>07 TO 09</td>\n",
       "      <td>73.0</td>\n",
       "      <td>Model A</td>\n",
       "      <td>1986</td>\n",
       "      <td>280000.0</td>\n",
       "      <td>3835.616438</td>\n",
       "      <td>West</td>\n",
       "      <td>4137.421165</td>\n",
       "    </tr>\n",
       "    <tr>\n",
       "      <th>4</th>\n",
       "      <td>2017-01</td>\n",
       "      <td>2017</td>\n",
       "      <td>BUKIT BATOK</td>\n",
       "      <td>3 ROOM</td>\n",
       "      <td>247</td>\n",
       "      <td>BT BATOK EAST AVE 5</td>\n",
       "      <td>07 TO 09</td>\n",
       "      <td>73.0</td>\n",
       "      <td>Model A</td>\n",
       "      <td>1985</td>\n",
       "      <td>285000.0</td>\n",
       "      <td>3904.109589</td>\n",
       "      <td>West</td>\n",
       "      <td>4137.421165</td>\n",
       "    </tr>\n",
       "  </tbody>\n",
       "</table>\n",
       "</div>"
      ],
      "text/plain": [
       "  Tranc_YearMonth  year         town flat_type block          street_name  \\\n",
       "0         2017-01  2017        BEDOK    3 ROOM    55         CHAI CHEE DR   \n",
       "1         2017-01  2017  BUKIT BATOK    3 ROOM   537       BT BATOK ST 52   \n",
       "2         2017-01  2017  BUKIT BATOK    3 ROOM   130  BT BATOK WEST AVE 6   \n",
       "3         2017-01  2017  BUKIT BATOK    3 ROOM   346       BT BATOK ST 34   \n",
       "4         2017-01  2017  BUKIT BATOK    3 ROOM   247  BT BATOK EAST AVE 5   \n",
       "\n",
       "  storey_range  floor_area_sqm flat_model  lease_commence_date  resale_price  \\\n",
       "0     04 TO 06            75.0    Model A                 1984      310000.0   \n",
       "1     01 TO 03            73.0    Model A                 1987      260000.0   \n",
       "2     07 TO 09            73.0    Model A                 1984      278000.0   \n",
       "3     07 TO 09            73.0    Model A                 1986      280000.0   \n",
       "4     07 TO 09            73.0    Model A                 1985      285000.0   \n",
       "\n",
       "   price_per_sqm region  avg_region_price_per_sqm_by_year  \n",
       "0    4133.333333   East                       4563.649839  \n",
       "1    3561.643836   West                       4137.421165  \n",
       "2    3808.219178   West                       4137.421165  \n",
       "3    3835.616438   West                       4137.421165  \n",
       "4    3904.109589   West                       4137.421165  "
      ]
     },
     "execution_count": 57,
     "metadata": {},
     "output_type": "execute_result"
    }
   ],
   "source": [
    "hdbdf = pd.merge(hdbdf, psmbyregionyeardf, how='left', on = ['region', 'year'])\n",
    "\n",
    "hdbdf.head()"
   ]
  },
  {
   "cell_type": "markdown",
   "metadata": {
    "deletable": false,
    "id": "dK03COE7ZTfX",
    "tags": [],
    "trust": true
   },
   "source": [
    "> **[ Question 7b ]** Create a new column called **price_per_sqm_diff_to_region**, to store the differences between i) **price_per_sqm** of the unit and ii) the average price_per_sqm of the region and year of which the unit belongs to."
   ]
  },
  {
   "cell_type": "code",
   "execution_count": 58,
   "metadata": {
    "id": "TrF2JttFZTfX"
   },
   "outputs": [],
   "source": [
    "hdbdf['price_per_sqm_diff_to_region'] = hdbdf['price_per_sqm'] - hdbdf['avg_region_price_per_sqm_by_year']"
   ]
  },
  {
   "cell_type": "markdown",
   "metadata": {
    "deletable": false,
    "id": "BhEc3o9xZTfX",
    "tags": [],
    "trust": true
   },
   "source": [
    "> **[ Question 7c ]** Display a **histogram** to show the distribution of the differences in prices stored in the **price_per_sqm_diff_to_region** column. \\\n",
    "> Set the number of bins in the histogram to **20**."
   ]
  },
  {
   "cell_type": "code",
   "execution_count": 59,
   "metadata": {
    "id": "YrmotTp1ZTfX"
   },
   "outputs": [
    {
     "data": {
      "text/plain": [
       "<matplotlib.axes._subplots.AxesSubplot at 0x1b263730d90>"
      ]
     },
     "execution_count": 59,
     "metadata": {},
     "output_type": "execute_result"
    },
    {
     "data": {
      "image/png": "[encoded data removed]",
      "text/plain": [
       "<Figure size 1152x648 with 1 Axes>"
      ]
     },
     "metadata": {
      "image/png": {
       "height": 523,
       "width": 944
      }
     },
     "output_type": "display_data"
    }
   ],
   "source": [
    "hdbdf['price_per_sqm_diff_to_region'].hist(bins=20)"
   ]
  },
  {
   "cell_type": "markdown",
   "metadata": {
    "deletable": false,
    "id": "gGIlx0C8ZTfY",
    "tags": [],
    "trust": true
   },
   "source": [
    "> **[ Question 7d ]**\n",
    "Create a column **mid_storey** to store the midpoint of the unit's **storey_range**. <br/> Round the result to the nearest integer. <br/> For example, if the unit **storey_range** is \"07 TO 09\", the midpoint is **8**.<br/>\n"
   ]
  },
  {
   "cell_type": "code",
   "execution_count": 60,
   "metadata": {
    "id": "c1tB7eR2ZTfZ"
   },
   "outputs": [],
   "source": [
    "\n",
    "def get_mid_storey(row):\n",
    "    top = int(row[-2:])\n",
    "    bottom = int(row[0:2])\n",
    "    mid = (top + bottom)/2\n",
    "    return int(mid)"
   ]
  },
  {
   "cell_type": "code",
   "execution_count": 61,
   "metadata": {},
   "outputs": [
    {
     "data": {
      "text/html": [
       "<div>\n",
       "<style scoped>\n",
       "    .dataframe tbody tr th:only-of-type {\n",
       "        vertical-align: middle;\n",
       "    }\n",
       "\n",
       "    .dataframe tbody tr th {\n",
       "        vertical-align: top;\n",
       "    }\n",
       "\n",
       "    .dataframe thead th {\n",
       "        text-align: right;\n",
       "    }\n",
       "</style>\n",
       "<table border=\"1\" class=\"dataframe\">\n",
       "  <thead>\n",
       "    <tr style=\"text-align: right;\">\n",
       "      <th></th>\n",
       "      <th>Tranc_YearMonth</th>\n",
       "      <th>year</th>\n",
       "      <th>town</th>\n",
       "      <th>flat_type</th>\n",
       "      <th>block</th>\n",
       "      <th>street_name</th>\n",
       "      <th>storey_range</th>\n",
       "      <th>floor_area_sqm</th>\n",
       "      <th>flat_model</th>\n",
       "      <th>lease_commence_date</th>\n",
       "      <th>resale_price</th>\n",
       "      <th>price_per_sqm</th>\n",
       "      <th>region</th>\n",
       "      <th>avg_region_price_per_sqm_by_year</th>\n",
       "      <th>price_per_sqm_diff_to_region</th>\n",
       "      <th>mid_storey</th>\n",
       "    </tr>\n",
       "  </thead>\n",
       "  <tbody>\n",
       "    <tr>\n",
       "      <th>0</th>\n",
       "      <td>2017-01</td>\n",
       "      <td>2017</td>\n",
       "      <td>BEDOK</td>\n",
       "      <td>3 ROOM</td>\n",
       "      <td>55</td>\n",
       "      <td>CHAI CHEE DR</td>\n",
       "      <td>04 TO 06</td>\n",
       "      <td>75.0</td>\n",
       "      <td>Model A</td>\n",
       "      <td>1984</td>\n",
       "      <td>310000.0</td>\n",
       "      <td>4133.333333</td>\n",
       "      <td>East</td>\n",
       "      <td>4563.649839</td>\n",
       "      <td>-430.316505</td>\n",
       "      <td>5</td>\n",
       "    </tr>\n",
       "    <tr>\n",
       "      <th>1</th>\n",
       "      <td>2017-01</td>\n",
       "      <td>2017</td>\n",
       "      <td>BUKIT BATOK</td>\n",
       "      <td>3 ROOM</td>\n",
       "      <td>537</td>\n",
       "      <td>BT BATOK ST 52</td>\n",
       "      <td>01 TO 03</td>\n",
       "      <td>73.0</td>\n",
       "      <td>Model A</td>\n",
       "      <td>1987</td>\n",
       "      <td>260000.0</td>\n",
       "      <td>3561.643836</td>\n",
       "      <td>West</td>\n",
       "      <td>4137.421165</td>\n",
       "      <td>-575.777329</td>\n",
       "      <td>2</td>\n",
       "    </tr>\n",
       "    <tr>\n",
       "      <th>2</th>\n",
       "      <td>2017-01</td>\n",
       "      <td>2017</td>\n",
       "      <td>BUKIT BATOK</td>\n",
       "      <td>3 ROOM</td>\n",
       "      <td>130</td>\n",
       "      <td>BT BATOK WEST AVE 6</td>\n",
       "      <td>07 TO 09</td>\n",
       "      <td>73.0</td>\n",
       "      <td>Model A</td>\n",
       "      <td>1984</td>\n",
       "      <td>278000.0</td>\n",
       "      <td>3808.219178</td>\n",
       "      <td>West</td>\n",
       "      <td>4137.421165</td>\n",
       "      <td>-329.201986</td>\n",
       "      <td>8</td>\n",
       "    </tr>\n",
       "    <tr>\n",
       "      <th>3</th>\n",
       "      <td>2017-01</td>\n",
       "      <td>2017</td>\n",
       "      <td>BUKIT BATOK</td>\n",
       "      <td>3 ROOM</td>\n",
       "      <td>346</td>\n",
       "      <td>BT BATOK ST 34</td>\n",
       "      <td>07 TO 09</td>\n",
       "      <td>73.0</td>\n",
       "      <td>Model A</td>\n",
       "      <td>1986</td>\n",
       "      <td>280000.0</td>\n",
       "      <td>3835.616438</td>\n",
       "      <td>West</td>\n",
       "      <td>4137.421165</td>\n",
       "      <td>-301.804726</td>\n",
       "      <td>8</td>\n",
       "    </tr>\n",
       "    <tr>\n",
       "      <th>4</th>\n",
       "      <td>2017-01</td>\n",
       "      <td>2017</td>\n",
       "      <td>BUKIT BATOK</td>\n",
       "      <td>3 ROOM</td>\n",
       "      <td>247</td>\n",
       "      <td>BT BATOK EAST AVE 5</td>\n",
       "      <td>07 TO 09</td>\n",
       "      <td>73.0</td>\n",
       "      <td>Model A</td>\n",
       "      <td>1985</td>\n",
       "      <td>285000.0</td>\n",
       "      <td>3904.109589</td>\n",
       "      <td>West</td>\n",
       "      <td>4137.421165</td>\n",
       "      <td>-233.311575</td>\n",
       "      <td>8</td>\n",
       "    </tr>\n",
       "  </tbody>\n",
       "</table>\n",
       "</div>"
      ],
      "text/plain": [
       "  Tranc_YearMonth  year         town flat_type block          street_name  \\\n",
       "0         2017-01  2017        BEDOK    3 ROOM    55         CHAI CHEE DR   \n",
       "1         2017-01  2017  BUKIT BATOK    3 ROOM   537       BT BATOK ST 52   \n",
       "2         2017-01  2017  BUKIT BATOK    3 ROOM   130  BT BATOK WEST AVE 6   \n",
       "3         2017-01  2017  BUKIT BATOK    3 ROOM   346       BT BATOK ST 34   \n",
       "4         2017-01  2017  BUKIT BATOK    3 ROOM   247  BT BATOK EAST AVE 5   \n",
       "\n",
       "  storey_range  floor_area_sqm flat_model  lease_commence_date  resale_price  \\\n",
       "0     04 TO 06            75.0    Model A                 1984      310000.0   \n",
       "1     01 TO 03            73.0    Model A                 1987      260000.0   \n",
       "2     07 TO 09            73.0    Model A                 1984      278000.0   \n",
       "3     07 TO 09            73.0    Model A                 1986      280000.0   \n",
       "4     07 TO 09            73.0    Model A                 1985      285000.0   \n",
       "\n",
       "   price_per_sqm region  avg_region_price_per_sqm_by_year  \\\n",
       "0    4133.333333   East                       4563.649839   \n",
       "1    3561.643836   West                       4137.421165   \n",
       "2    3808.219178   West                       4137.421165   \n",
       "3    3835.616438   West                       4137.421165   \n",
       "4    3904.109589   West                       4137.421165   \n",
       "\n",
       "   price_per_sqm_diff_to_region  mid_storey  \n",
       "0                   -430.316505           5  \n",
       "1                   -575.777329           2  \n",
       "2                   -329.201986           8  \n",
       "3                   -301.804726           8  \n",
       "4                   -233.311575           8  "
      ]
     },
     "execution_count": 61,
     "metadata": {},
     "output_type": "execute_result"
    }
   ],
   "source": [
    "hdbdf['mid_storey'] = hdbdf['storey_range'].apply(get_mid_storey)\n",
    "\n",
    "hdbdf.head()"
   ]
  },
  {
   "cell_type": "markdown",
   "metadata": {
    "deletable": false,
    "id": "2wHlieTIZTfZ",
    "tags": [],
    "trust": true
   },
   "source": [
    "> **[ Question 7e ]**\n",
    "> Display a **scatter plot** which looks similar to the one given below:\n",
    ">> ![](markdown_resources/q007.png)"
   ]
  },
  {
   "cell_type": "code",
   "execution_count": 62,
   "metadata": {
    "id": "gB-Hwx7HZTfa"
   },
   "outputs": [
    {
     "name": "stderr",
     "output_type": "stream",
     "text": [
      "*c* argument looks like a single numeric RGB or RGBA sequence, which should be avoided as value-mapping will have precedence in case its length matches with *x* & *y*.  Please use the *color* keyword-argument or provide a 2-D array with a single row if you intend to specify the same RGB or RGBA value for all points.\n"
     ]
    },
    {
     "data": {
      "text/plain": [
       "<matplotlib.axes._subplots.AxesSubplot at 0x1b262c515e0>"
      ]
     },
     "execution_count": 62,
     "metadata": {},
     "output_type": "execute_result"
    },
    {
     "data": {
      "image/png": "[encoded data removed]",
      "text/plain": [
       "<Figure size 1152x648 with 1 Axes>"
      ]
     },
     "metadata": {
      "image/png": {
       "height": 538,
       "width": 963
      }
     },
     "output_type": "display_data"
    }
   ],
   "source": [
    "hdbdf.plot.scatter(x='mid_storey', y='price_per_sqm_diff_to_region', )"
   ]
  },
  {
   "cell_type": "code",
   "execution_count": 63,
   "metadata": {},
   "outputs": [
    {
     "data": {
      "text/plain": [
       "<matplotlib.axes._subplots.AxesSubplot at 0x1b262c36460>"
      ]
     },
     "execution_count": 63,
     "metadata": {},
     "output_type": "execute_result"
    },
    {
     "data": {
      "image/png": "[encoded data removed]",
      "text/plain": [
       "<Figure size 1152x648 with 1 Axes>"
      ]
     },
     "metadata": {
      "image/png": {
       "height": 538,
       "width": 963
      }
     },
     "output_type": "display_data"
    }
   ],
   "source": [
    "sns.scatterplot(x='mid_storey', y='price_per_sqm_diff_to_region', data=hdbdf )\n"
   ]
  },
  {
   "cell_type": "markdown",
   "metadata": {
    "deletable": false,
    "id": "6z_zKJBsZTfa",
    "tags": [],
    "trust": true
   },
   "source": [
    "---\n",
    "## END OF CAPSTONE ASSIGNMENT 2\n",
    "\n",
    "- Well done everyone!"
   ]
  },
  {
   "cell_type": "code",
   "execution_count": null,
   "metadata": {},
   "outputs": [],
   "source": []
  }
 ],
 "metadata": {
  "colab": {
   "name": "DC_Bootcamp_2021_Milestone_Test_2_v2.ipynb",
   "provenance": []
  },
  "kernelspec": {
   "display_name": "Python 3.8.3 ('base')",
   "language": "python",
   "name": "python3"
  },
  "language_info": {
   "codemirror_mode": {
    "name": "ipython",
    "version": 3
   },
   "file_extension": ".py",
   "mimetype": "text/x-python",
   "name": "python",
   "nbconvert_exporter": "python",
   "pygments_lexer": "ipython3",
   "version": "3.8.3"
  },
  "vscode": {
   "interpreter": {
    "hash": "deb4792152b8b9767403eeef0a1b0f34b83d442136ccee9184cd7d1131f09aa0"
   }
  }
 },
 "nbformat": 4,
 "nbformat_minor": 4
}
